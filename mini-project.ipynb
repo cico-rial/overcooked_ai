{
 "cells": [
  {
   "cell_type": "markdown",
   "id": "daf7369d",
   "metadata": {},
   "source": [
    "# Things you might think of implementing  \n",
    "- replay buffer to learn from unconnected experiences \n",
    "- train in batches to make everything more efficient.\n",
    "- implement PPO, instantiating 2 actors. 1 will be the baseline (i.e. the previous update) in order to compute the ratio.\n",
    "- define 2 different actors that will be specific for each agent. overfitting is possible.\n",
    "- try to see whether you can use convolutions"
   ]
  },
  {
   "cell_type": "markdown",
   "id": "42c44041",
   "metadata": {},
   "source": [
    "# Imports"
   ]
  },
  {
   "cell_type": "code",
   "execution_count": 1,
   "id": "fcad74b2",
   "metadata": {},
   "outputs": [],
   "source": [
    "from overcooked_ai_py.mdp.overcooked_env import OvercookedEnv, Overcooked\n",
    "from overcooked_ai_py.mdp.overcooked_mdp import OvercookedGridworld, OvercookedState\n",
    "from overcooked_ai_py.visualization.state_visualizer import StateVisualizer\n",
    "from overcooked_ai_py.mdp.actions import Action\n",
    "from overcooked_ai_py.agents.agent import Agent, AgentPair, RandomAgent\n",
    "from overcooked_ai_py.agents.benchmarking import AgentEvaluator\n",
    "import numpy as np\n",
    "import matplotlib.pyplot as plt\n",
    "import tensorflow as tf\n",
    "from tensorflow import keras\n",
    "from tensorflow.keras import layers\n",
    "from tensorflow.keras.datasets import mnist, fashion_mnist\n",
    "from tensorflow.keras.optimizers import Adam\n",
    "from tensorflow.keras.callbacks import ModelCheckpoint, EarlyStopping, ReduceLROnPlateau\n",
    "from tensorflow.keras.layers import Input, Conv2D, MaxPooling2D, Conv2DTranspose, concatenate, BatchNormalization, Activation, Concatenate\n",
    "from tensorflow.keras.models import Model\n",
    "from tqdm.notebook import tqdm\n",
    "from typing import Tuple, List, Dict"
   ]
  },
  {
   "cell_type": "markdown",
   "id": "9a4b1239",
   "metadata": {},
   "source": [
    "# Useful classes "
   ]
  },
  {
   "cell_type": "markdown",
   "id": "5c856aba",
   "metadata": {},
   "source": [
    "Policy class: NN for computing the probability distribution of the actions to take."
   ]
  },
  {
   "cell_type": "code",
   "execution_count": 2,
   "id": "3b64a48c",
   "metadata": {},
   "outputs": [],
   "source": [
    "class Policy(Model):\n",
    "    def __init__(self, input_shape, num_actions, optimizer):\n",
    "        super().__init__()\n",
    "        self.input_shape = input_shape\n",
    "        self.num_actions = num_actions\n",
    "        self.optimizer = optimizer\n",
    "        self.input_a = Input(shape=(self.input_shape))\n",
    "        self.input_b = Input(shape=(self.input_shape))\n",
    "        self.concatenate_inputs = Concatenate()\n",
    "        self.dense_1 = layers.Dense(128, activation='tanh')\n",
    "        self.dense_2 = layers.Dense(256, activation='tanh')\n",
    "        self.dense_3 = layers.Dense(128, activation='tanh')\n",
    "        self.policy_a = layers.Dense(self.num_actions, activation='softmax', name=\"policy_a\")\n",
    "        self.policy_b = layers.Dense(self.num_actions, activation='softmax', name=\"policy_b\")\n",
    "        self.build_model()\n",
    "    \n",
    "    def preprocess(self, obs):\n",
    "        agent_1_obs = obs['both_agent_obs'][0]\n",
    "        agent_2_obs = obs['both_agent_obs'][1]\n",
    "        return (tf.expand_dims(agent_1_obs, axis=0), tf.expand_dims(agent_2_obs, axis=0))\n",
    "      \n",
    "\n",
    "    def call(self, obs, training=False):\n",
    "        x = self.preprocess(obs)\n",
    "        x = self.concatenate_inputs(x)\n",
    "        x = self.dense_1(x)\n",
    "        x = self.dense_2(x)\n",
    "        x = self.dense_3(x)\n",
    "        policy_a = self.policy_a(x)\n",
    "        policy_b = self.policy_b(x)\n",
    "        return (policy_a, policy_b)\n",
    "\n",
    "    def build_model(self):\n",
    "        # computing a forward pass in order to automatically build the model\n",
    "        dummy_input = {\n",
    "        \"both_agent_obs\": (\n",
    "            tf.zeros((1, 96)),\n",
    "            tf.zeros((1, 96))\n",
    "        )\n",
    "        }\n",
    "        _ = self(dummy_input) \n",
    "    \n",
    "    def train_step(self, delta, obs: Tuple, action: Tuple[int,int]):\n",
    "        # update t with t + alpha_t*delta*grad_pi^(A|S) where A is the action taken before reaching St+1\n",
    "        with tf.GradientTape() as tape:\n",
    "            pi = self.call(obs, training=True)\n",
    "            log_pi = tf.math.log(pi) \n",
    "            pi_a = log_pi[0][..., action[0]] + log_pi[1][..., action[1]] # π(A|S), computing the sum of the probability of the best actions\n",
    "        \n",
    "        grad_pi_a = tape.gradient(pi_a, self.trainable_weights)\n",
    "        processed_gradient = [-tf.squeeze(delta)*grad for grad in grad_pi_a]\n",
    "        self.optimizer.apply_gradients(zip(processed_gradient, self.trainable_weights))"
   ]
  },
  {
   "cell_type": "markdown",
   "id": "dcc3e496",
   "metadata": {},
   "source": [
    "ValueFunctionApproximator class: NN for approximating the value function of a given state."
   ]
  },
  {
   "cell_type": "code",
   "execution_count": 3,
   "id": "0171d26d",
   "metadata": {},
   "outputs": [],
   "source": [
    "class ValueFunctionApproximator(Model):\n",
    "    def __init__(self, input_shape, optimizer):\n",
    "        super().__init__()\n",
    "        self.input_shape = input_shape\n",
    "        self.optimizer = optimizer\n",
    "        self.input_a = Input(shape=(self.input_shape))\n",
    "        self.input_b = Input(shape=(self.input_shape))\n",
    "        self.concatenate_inputs = Concatenate()\n",
    "        self.dense_1 = layers.Dense(128, activation='tanh')\n",
    "        self.dense_2 = layers.Dense(256, activation='tanh')\n",
    "        self.dense_3 = layers.Dense(128, activation='tanh')\n",
    "        # self.value_function = layers.Dense(1, activation='relu', name=\"value_function\")\n",
    "        self.value_function = layers.Dense(1, name=\"value_function\")\n",
    "        self.build_model()\n",
    "    \n",
    "    def preprocess(self, obs):\n",
    "        agent_1_obs = obs['both_agent_obs'][0]\n",
    "        agent_2_obs = obs['both_agent_obs'][1]\n",
    "        return (tf.expand_dims(agent_1_obs, axis=0), tf.expand_dims(agent_2_obs, axis=0))\n",
    "    \n",
    "\n",
    "    def call(self, obs: Tuple, training=False):\n",
    "        x = self.preprocess(obs)\n",
    "        x = self.concatenate_inputs(x)\n",
    "        x = self.dense_1(x)\n",
    "        x = self.dense_2(x)\n",
    "        x = self.dense_3(x)\n",
    "        value_function = self.value_function(x)\n",
    "        return value_function\n",
    "\n",
    "    def build_model(self): \n",
    "        # computing a forward pass in order to automatically build the model\n",
    "        dummy_input = {\n",
    "        \"both_agent_obs\": (\n",
    "            tf.zeros((1, 96)),\n",
    "            tf.zeros((1, 96))\n",
    "        )\n",
    "        }\n",
    "        _ = self(dummy_input)\n",
    "    \n",
    "    def train_step(self, delta, obs: Tuple):\n",
    "        # update w with w + alpha_w*delta*grad_v^(St)\n",
    "        with tf.GradientTape() as tape:\n",
    "            state_value = self.call(obs, training=True)\n",
    "        \n",
    "        grad_state_value = tape.gradient(state_value, self.trainable_weights)\n",
    "        processed_gradient = [-tf.squeeze(delta)*grad for grad in grad_state_value]\n",
    "        self.optimizer.apply_gradients(zip(processed_gradient, self.trainable_weights))\n"
   ]
  },
  {
   "cell_type": "markdown",
   "id": "7a8ccb45",
   "metadata": {},
   "source": [
    "Agent class: inherits from Agent class found in agent.py"
   ]
  },
  {
   "cell_type": "code",
   "execution_count": null,
   "id": "325eb6dd",
   "metadata": {},
   "outputs": [],
   "source": [
    "class MyAgent(Agent):\n",
    "    \"\"\"\n",
    "    This class is more a couple of actors since we use shared networks and the output are 2!!!\n",
    "    For now let's treat it like a single player identified by self.index\n",
    "    \"\"\"\n",
    "    def __init__(self, actor, critic, idx, base_env: OvercookedEnv, epsilon = 0.1):\n",
    "        super().__init__()\n",
    "        self.actor = actor\n",
    "        self.critic = critic\n",
    "        self.idx = idx\n",
    "        if not self.idx in [0,1]:\n",
    "            raise AssertionError(\"The index of the agent must be either 0 or 1!\")\n",
    "        self.base_env = base_env\n",
    "        self.epsilon = epsilon\n",
    "\n",
    "    def action(self, obs):\n",
    "        \"\"\"\n",
    "        obs: preprocessed observation (or overcookedstate)\n",
    "        We want to output the action given the state. can use a NN!\n",
    "        should return a tuple (Action, Dict)\n",
    "        Dict should contain info about the action ('action_probs': numpy array)\n",
    "        \"\"\"\n",
    "        if isinstance(obs, OvercookedState):\n",
    "            # this is useful for translating the OvercookedState \n",
    "            # into observation that can be fed into the NN.\n",
    "            state = obs\n",
    "            obs_from_state = self.base_env.featurize_state_mdp(state)\n",
    "            obs = {'both_agent_obs': obs_from_state, 'overcooked_state': state}\n",
    "    \n",
    "        action_probs = self.actor.call(obs)[self.idx].numpy()\n",
    "        if np.random.random() > self.epsilon: \n",
    "            action = Action.argmax(action_probs) # greedy selection\n",
    "        else:\n",
    "            action_idx = np.random.choice(range(0,6), size=1)[0]\n",
    "            action = Action.INDEX_TO_ACTION[action_idx] # random exploration\n",
    "        return (action, {'action_probs': action_probs})\n",
    "\n",
    "    def actions(self, obss):\n",
    "        \"\"\"\n",
    "        Look at the documentation of the Agent class\n",
    "        \"\"\"\n",
    "        pass\n",
    "\n",
    "    def update(self, obs, reward):\n",
    "        \"\"\"\n",
    "        What do we need to update?\n",
    "        \"\"\"\n",
    "        pass\n",
    "\n",
    "    def decay_epsilon(self, decay):\n",
    "        if self.epsilon - decay <= 0.05:\n",
    "            self.epsilon = 0.05\n",
    "        else:\n",
    "            self.epsilon -= decay"
   ]
  },
  {
   "cell_type": "markdown",
   "id": "1728a541",
   "metadata": {},
   "source": [
    "# Let's start coding!"
   ]
  },
  {
   "cell_type": "markdown",
   "id": "26d16be5",
   "metadata": {},
   "source": [
    "Let's define our environment:"
   ]
  },
  {
   "cell_type": "code",
   "execution_count": 5,
   "id": "0d6e5f28",
   "metadata": {},
   "outputs": [],
   "source": [
    "number_of_frames = 400\n",
    "layout_name = \"cramped_room\"\n",
    "base_mdp = OvercookedGridworld.from_layout_name(layout_name=layout_name) #or other layout\n",
    "base_env = OvercookedEnv.from_mdp(base_mdp, info_level=0, horizon=number_of_frames)\n",
    "env = Overcooked(base_env=base_env, featurize_fn=base_env.featurize_state_mdp)"
   ]
  },
  {
   "cell_type": "markdown",
   "id": "ec017db8",
   "metadata": {},
   "source": [
    "Let's instantiate our networks and the hyperparameters:"
   ]
  },
  {
   "cell_type": "code",
   "execution_count": 891,
   "id": "1680f8db",
   "metadata": {},
   "outputs": [],
   "source": [
    "alpha_w = 1e-5\n",
    "alpha_t = 1e-6\n",
    "critic_optimizer = Adam(learning_rate=alpha_w)\n",
    "actor_optimizer = Adam(learning_rate=alpha_t)"
   ]
  },
  {
   "cell_type": "code",
   "execution_count": 871,
   "id": "292c6b08",
   "metadata": {},
   "outputs": [],
   "source": [
    "input_shape = env.observation_space._shape\n",
    "\n",
    "shared_actor = Policy(\n",
    "    input_shape=input_shape,\n",
    "    num_actions=Action.NUM_ACTIONS,\n",
    "    optimizer=actor_optimizer\n",
    "    )\n",
    "\n",
    "shared_critic = ValueFunctionApproximator(\n",
    "    input_shape=input_shape,\n",
    "    optimizer=critic_optimizer\n",
    "    )"
   ]
  },
  {
   "cell_type": "code",
   "execution_count": 22,
   "id": "f929ba8d",
   "metadata": {},
   "outputs": [],
   "source": [
    "path_critic = \"networks/critic/\"\n",
    "path_actor = \"networks/actor/\""
   ]
  },
  {
   "cell_type": "code",
   "execution_count": 873,
   "id": "7097c7a9",
   "metadata": {},
   "outputs": [],
   "source": [
    "# shared_critic.load_weights(path_critic + \"shared_critic.weights.h5\")\n",
    "# shared_actor.load_weights(path_actor + \"shared_actor.weights.h5\")"
   ]
  },
  {
   "cell_type": "markdown",
   "id": "0226d7fd",
   "metadata": {},
   "source": [
    "Let's instantiate our agents:"
   ]
  },
  {
   "cell_type": "code",
   "execution_count": null,
   "id": "0a9e27b4",
   "metadata": {},
   "outputs": [],
   "source": [
    "agent_1 = MyAgent(\n",
    "    actor=shared_actor,\n",
    "    critic=shared_critic,\n",
    "    idx=0,\n",
    "    base_env=base_env,\n",
    "    epsilon=0.5\n",
    ")\n",
    "agent_2 = MyAgent(\n",
    "    actor=shared_actor,\n",
    "    critic=shared_critic,\n",
    "    idx=1,\n",
    "    base_env=base_env,\n",
    "    epsilon=0.5\n",
    ")"
   ]
  },
  {
   "cell_type": "code",
   "execution_count": 849,
   "id": "64d0664f",
   "metadata": {},
   "outputs": [],
   "source": [
    "# model = keras.models.load_model(path_critic + \"shared_critic.keras\")"
   ]
  },
  {
   "cell_type": "code",
   "execution_count": 850,
   "id": "790c495f",
   "metadata": {},
   "outputs": [],
   "source": [
    "# agent_1.epsilon = 0.9\n",
    "# agent_2.epsilon = 0.9"
   ]
  },
  {
   "cell_type": "markdown",
   "id": "7ea337a3",
   "metadata": {},
   "source": [
    "Let's define our training loop! Let's go for now for a bootstrapping method."
   ]
  },
  {
   "cell_type": "code",
   "execution_count": null,
   "id": "24ea87a8",
   "metadata": {},
   "outputs": [],
   "source": [
    "number_of_episodes = 1\n",
    "last_actor_call = 0 # debugging\n",
    "stop_calling = False # debugging\n",
    "try:\n",
    "    for episode in range(number_of_episodes):\n",
    "        t = 0\n",
    "        obs = env.reset()\n",
    "        done = False\n",
    "        shaped_reward_factor = 1 # multiplicative factor for discounting shaped reward.\n",
    "        discount_rate = 1 # will decrease the shaped reward every time\n",
    "        cumulative_reward = 0\n",
    "        updated = False\n",
    "\n",
    "        if stop_calling: # debugging\n",
    "            break # debugging\n",
    "\n",
    "        if (episode + 1) % 50 == 0:\n",
    "            agent_1.decay_epsilon(decay=0.1)\n",
    "            agent_2.decay_epsilon(decay=0.1)\n",
    "\n",
    "        while not done:\n",
    "            action1 = agent_1.action(obs)\n",
    "            action2 = agent_2.action(obs)\n",
    "            player_1_action = Action.ACTION_TO_INDEX[action1[0]]\n",
    "            player_2_action = Action.ACTION_TO_INDEX[action2[0]]\n",
    "            action = (player_1_action, player_2_action)\n",
    "\n",
    "            new_obs, reward, done, env_info = env.step(action)\n",
    "            shaped_reward = sum(env_info['shaped_r_by_agent']) # let's use shaped reward for learning how to play first.\n",
    "\n",
    "            if shaped_reward != 0:\n",
    "                shaped_reward = shaped_reward * shaped_reward_factor # discounting the shaped reward\n",
    "                shaped_reward_factor *= discount_rate\n",
    "\n",
    "            total_reward = reward + shaped_reward\n",
    "\n",
    "            cumulative_reward += total_reward\n",
    "\n",
    "            # compute delta = R + v^(St+1) - v^(St) where v^(St+1) = 0 if done\n",
    "            if done:\n",
    "                delta = total_reward - shared_critic.call(obs)\n",
    "            else:\n",
    "                delta = total_reward + shared_critic.call(new_obs) - shared_critic.call(obs)\n",
    "            \n",
    "            if not stop_calling: # debugging\n",
    "                last_actor_call = shared_actor.call(obs) # debugging\n",
    "            \n",
    "            if delta != 0:\n",
    "                updated = True\n",
    "                # update w with w + alpha_w*delta*grad_v^(St)\n",
    "                shared_critic.train_step(delta, obs)        \n",
    "                # update t with t + alpha_t*delta*grad_pi^(A|S) where A is the action taken before reaching St+1\n",
    "                shared_actor.train_step(delta, obs, action)\n",
    "\n",
    "                # DEBUGGING\n",
    "                if not np.sum(shared_actor.call(obs)[1].numpy()) > 0.9:\n",
    "                    print(delta)\n",
    "                    stop_calling = True\n",
    "                    break\n",
    "                # END DEBUGGING\n",
    "            # update state (obs = new_obs) \n",
    "            obs = new_obs  \n",
    "\n",
    "            # think about training the critic by itself for a while\n",
    "            t += 1\n",
    "            \n",
    "        print(f\"Episode [{episode+1:>3d}] terminated at timestep {t}. cumulative reward: {cumulative_reward:>3d}. updated: {updated}\")\n",
    "        shared_critic.save_weights(path_critic + \"shared_critic.weights.h5\")\n",
    "        shared_actor.save_weights(path_actor + \"shared_actor.weights.h5\")\n",
    "except KeyboardInterrupt:\n",
    "    shared_critic.save_weights(path_critic + \"shared_critic.weights.h5\")\n",
    "    shared_actor.save_weights(path_actor + \"shared_actor.weights.h5\")\n",
    "    print(\"User interrupted training. Saving weights\")"
   ]
  },
  {
   "cell_type": "code",
   "execution_count": 890,
   "id": "ff4e7362",
   "metadata": {},
   "outputs": [
    {
     "data": {
      "text/plain": [
       "<tf.Tensor: shape=(1, 1), dtype=float32, numpy=array([[11.877808]], dtype=float32)>"
      ]
     },
     "execution_count": 890,
     "metadata": {},
     "output_type": "execute_result"
    }
   ],
   "source": [
    "shared_critic_batch(obs['both_agent_obs'])"
   ]
  },
  {
   "cell_type": "code",
   "execution_count": 835,
   "id": "5f696a68",
   "metadata": {},
   "outputs": [
    {
     "name": "stdout",
     "output_type": "stream",
     "text": [
      "final frame: \n"
     ]
    },
    {
     "data": {
      "image/png": "[encoded data removed]",
      "text/plain": [
       "<Figure size 640x480 with 1 Axes>"
      ]
     },
     "metadata": {},
     "output_type": "display_data"
    }
   ],
   "source": [
    "print(\"final frame: \")\n",
    "render = env.render() / 255.0\n",
    "plt.imshow(render)\n",
    "plt.show()"
   ]
  },
  {
   "cell_type": "markdown",
   "id": "1d3e2a2e",
   "metadata": {},
   "source": [
    "next step: a metric!! let's plot the reward over time."
   ]
  },
  {
   "cell_type": "code",
   "execution_count": null,
   "id": "d9e25868",
   "metadata": {},
   "outputs": [
    {
     "name": "stderr",
     "output_type": "stream",
     "text": [
      "Avg rew: 0.00 (std: 0.00, se: 0.00); avg len: 400.00; : 100%|██████████| 10/10 [00:50<00:00,  5.04s/it]\n"
     ]
    },
    {
     "data": {
      "application/vnd.jupyter.widget-view+json": {
       "model_id": "c1a259d920a94384b31b8cfa1c227c22",
       "version_major": 2,
       "version_minor": 0
      },
      "text/plain": [
       "interactive(children=(IntSlider(value=0, description='timestep', max=399), Output()), _dom_classes=('widget-in…"
      ]
     },
     "metadata": {},
     "output_type": "display_data"
    }
   ],
   "source": [
    "# Here we create an evaluator for the cramped_room layout\n",
    "layout = \"cramped_room\"\n",
    "ae = AgentEvaluator.from_layout_name(mdp_params={\"layout_name\": layout, \"old_dynamics\": True}, \n",
    "                                     env_params={\"horizon\": 400})\n",
    "\n",
    "agent_1.epsilon = 0.1\n",
    "agent_2.epsilon = 0.1\n",
    "ap = AgentPair(agent_1, agent_2)\n",
    "\n",
    "trajs = ae.evaluate_agent_pair(ap, 10)\n",
    "# trajs = ae.evaluate_human_model_pair(1)\n",
    "\n",
    "StateVisualizer().display_rendered_trajectory(trajs, ipython_display=True)"
   ]
  },
  {
   "cell_type": "code",
   "execution_count": 857,
   "id": "483bf7a9",
   "metadata": {},
   "outputs": [
    {
     "data": {
      "text/plain": [
       "(<tf.Tensor: shape=(1, 6), dtype=float32, numpy=\n",
       " array([[0.19243509, 0.07259686, 0.25942189, 0.2613559 , 0.12458798,\n",
       "         0.08960235]], dtype=float32)>,\n",
       " <tf.Tensor: shape=(1, 6), dtype=float32, numpy=\n",
       " array([[0.0526605 , 0.07238707, 0.13526882, 0.12972553, 0.14828399,\n",
       "         0.46167403]], dtype=float32)>)"
      ]
     },
     "execution_count": 857,
     "metadata": {},
     "output_type": "execute_result"
    }
   ],
   "source": [
    "shared_actor.call(new_obs)"
   ]
  },
  {
   "cell_type": "markdown",
   "id": "1c6aa54f",
   "metadata": {},
   "source": [
    "# Using trajectories\n",
    " When evaluating trajectory of my agents, the agents are fed with the overcooked state.  \n",
    " Since my agent use the \"both_agent_obs\", i can convert the overcooked state in \"both_agent_obs\" through base_env.featurize_state_mdp(state).  \n",
    " The problem here is that i need to pay attention to the index since this method returns always in the POV of agent 0.  \n",
    " What i can do is to retrieve the index with env.agent_idx and i will have the following equality:  \n",
    " base_env.featurize_state_mdp(state)[0] == obs['both_agent_obs'][env.agent_idx]  \n",
    " I need to find a way to include the environment on my agent class and be able to call the agent_idx in order to preprocess the state and use the right order. \n",
    " During testing this should not be a huge problem since our network should be able to generalize the position... let's do without it!"
   ]
  },
  {
   "cell_type": "code",
   "execution_count": null,
   "id": "03f39dab",
   "metadata": {},
   "outputs": [
    {
     "name": "stdout",
     "output_type": "stream",
     "text": [
      "0\n"
     ]
    },
    {
     "data": {
      "text/plain": [
       "array([ True,  True,  True,  True,  True,  True,  True,  True,  True,\n",
       "        True,  True,  True,  True,  True,  True,  True,  True,  True,\n",
       "        True,  True,  True,  True,  True,  True,  True,  True,  True,\n",
       "        True,  True,  True,  True,  True,  True,  True,  True,  True,\n",
       "        True,  True,  True,  True,  True,  True,  True,  True,  True,\n",
       "        True,  True,  True,  True,  True,  True,  True,  True,  True,\n",
       "        True,  True,  True,  True,  True,  True,  True,  True,  True,\n",
       "        True,  True,  True,  True,  True,  True,  True,  True,  True,\n",
       "        True,  True,  True,  True,  True,  True,  True,  True,  True,\n",
       "        True,  True,  True,  True,  True,  True,  True,  True,  True,\n",
       "        True,  True,  True,  True,  True,  True])"
      ]
     },
     "execution_count": 479,
     "metadata": {},
     "output_type": "execute_result"
    }
   ],
   "source": [
    "obs = env.reset()\n",
    "state = obs['overcooked_state']\n",
    "transformed_obs = base_env.featurize_state_mdp(state)\n",
    "print(env.agent_idx)\n",
    "transformed_obs[env.agent_idx] == obs['both_agent_obs'][0]\n"
   ]
  },
  {
   "cell_type": "markdown",
   "id": "938fee1f",
   "metadata": {},
   "source": [
    "# Let's try implementing PPO with batches\n",
    "The idea is to compute some steps in the episode (let's say the whole episode), then you perform stochastic gradient descent with batches. the batch is the whole episode, and you train on minibatches of the episode, performing multiple epochs (let's say 10.)"
   ]
  },
  {
   "cell_type": "code",
   "execution_count": 8,
   "id": "43d7deec",
   "metadata": {},
   "outputs": [],
   "source": [
    "class PolicyBatch(Model):\n",
    "    def __init__(self, input_shape, num_actions, optimizer):\n",
    "        super().__init__()\n",
    "        self.input_shape = input_shape\n",
    "        self.num_actions = num_actions\n",
    "        self.optimizer = optimizer\n",
    "        self.input_a = Input(shape=(self.input_shape))\n",
    "        self.input_b = Input(shape=(self.input_shape))\n",
    "        self.dense_1 = layers.Dense(128, activation='tanh')\n",
    "        self.dense_2 = layers.Dense(256, activation='tanh')\n",
    "        self.dense_3 = layers.Dense(128, activation='tanh')\n",
    "        self.policy_a = layers.Dense(self.num_actions, activation='softmax', name=\"policy_a\")\n",
    "        self.policy_b = layers.Dense(self.num_actions, activation='softmax', name=\"policy_b\")\n",
    "        # self.build_model()\n",
    "    \n",
    "    def preprocess(self, obs_batch):\n",
    "        if isinstance(obs_batch, Tuple):\n",
    "            obs_batch = [obs_batch] # to handle the case where obs_batch is a single observation\n",
    "            \n",
    "        obs_1, obs_2 = zip(*obs_batch)\n",
    "        obs_batch = tf.concat([tf.stack(obs_1), tf.stack(obs_2)], axis=-1)\n",
    "        return obs_batch\n",
    "      \n",
    "\n",
    "    def call(self, obs_batch, training=False):\n",
    "        x = self.preprocess(obs_batch)\n",
    "        x = self.dense_1(x)\n",
    "        x = self.dense_2(x)\n",
    "        x = self.dense_3(x)\n",
    "        policy_a = self.policy_a(x)\n",
    "        policy_b = self.policy_b(x)\n",
    "        return (policy_a, policy_b) # self.call(obs_batch)[0][N]: n-th policy of agent 1 \n",
    "\n",
    "    def build_model(self):\n",
    "        # computing a forward pass in order to automatically build the model\n",
    "        dummy_input = {\n",
    "        \"both_agent_obs\": (\n",
    "            tf.zeros((1, 96)),\n",
    "            tf.zeros((1, 96))\n",
    "        )\n",
    "        }\n",
    "        _ = self(dummy_input) \n",
    "    \n",
    "    def train_step(self, deltas_batch: tf.Tensor, obs_batch, actions_batch):\n",
    "        # update t with t + alpha_t*delta*grad_pi^(A|S) where A is the action taken before reaching St+1\n",
    "        with tf.GradientTape() as tape:\n",
    "            pi = self.call(obs_batch, training=True)\n",
    "            log_pi = tf.math.log(pi) \n",
    "            processed_log_pi = -deltas_batch * log_pi\n",
    "            pi_a = 0\n",
    "            for i in range(len(actions_batch)):\n",
    "                pi_a += processed_log_pi[0][i][actions_batch[i][0]] + processed_log_pi[1][i][actions_batch[i][1]]\n",
    "\n",
    "        grad_pi_a = tape.gradient(pi_a, self.trainable_weights)\n",
    "        self.optimizer.apply_gradients(zip(grad_pi_a, self.trainable_weights))\n",
    "\n",
    "\n",
    "class ValueFunctionApproximatorBatch(Model):\n",
    "    def __init__(self, input_shape, optimizer):\n",
    "        super().__init__()\n",
    "        self.input_shape = input_shape\n",
    "        self.optimizer = optimizer\n",
    "        self.input_a = Input(shape=(self.input_shape))\n",
    "        self.input_b = Input(shape=(self.input_shape))\n",
    "        self.dense_1 = layers.Dense(128, activation='tanh')\n",
    "        self.dense_2 = layers.Dense(256, activation='tanh')\n",
    "        self.dense_3 = layers.Dense(128, activation='tanh')\n",
    "        # self.value_function = layers.Dense(1, activation='relu', name=\"value_function\")\n",
    "        self.value_function = layers.Dense(1, name=\"value_function\")\n",
    "        # self.build_model()\n",
    "    \n",
    "    def preprocess(self, obs_batch):\n",
    "        if isinstance(obs_batch, Tuple):\n",
    "            obs_batch = [obs_batch] # to handle the case where obs_batch is a single observation\n",
    "            \n",
    "        obs_1, obs_2 = zip(*obs_batch)\n",
    "        obs_batch = tf.concat([tf.stack(obs_1), tf.stack(obs_2)], axis=-1)\n",
    "        return obs_batch\n",
    "    \n",
    "\n",
    "    def call(self, obs: Tuple, training=False):\n",
    "        x = self.preprocess(obs)\n",
    "        x = self.dense_1(x)\n",
    "        x = self.dense_2(x)\n",
    "        x = self.dense_3(x)\n",
    "        value_function = self.value_function(x)\n",
    "        return value_function\n",
    "\n",
    "    def build_model(self): \n",
    "        # computing a forward pass in order to automatically build the model\n",
    "        dummy_input = {\n",
    "        \"both_agent_obs\": (\n",
    "            tf.zeros((1, 96)),\n",
    "            tf.zeros((1, 96))\n",
    "        )\n",
    "        }\n",
    "        _ = self(dummy_input)\n",
    "    \n",
    "    def train_step(self, deltas_batch: tf.Tensor, obs_batch): # deltas is a tf.Tensor of shape (batch_size,1)\n",
    "        # update w with w + alpha_w*grad_v^(St)*delta\n",
    "        with tf.GradientTape() as tape:\n",
    "            state_value = self.call(obs_batch, training=True)\n",
    "            processed_state_value = -deltas_batch * state_value\n",
    "        \n",
    "        grad_state_value = tape.gradient(processed_state_value, self.trainable_weights)\n",
    "        self.optimizer.apply_gradients(zip(grad_state_value, self.trainable_weights))\n",
    "\n",
    "class MyAgentBatch(Agent):\n",
    "    \"\"\"\n",
    "    This class is more a couple of actors since we use shared networks and the output are 2!!!\n",
    "    For now let's treat it like a single player identified by self.index\n",
    "    \"\"\"\n",
    "    def __init__(self, actor, critic, idx, base_env: OvercookedEnv, epsilon = 0.1):\n",
    "        super().__init__()\n",
    "        self.actor = actor\n",
    "        self.critic = critic\n",
    "        self.idx = idx\n",
    "        if not self.idx in [0,1]:\n",
    "            raise AssertionError(\"The index of the agent must be either 0 or 1!\")\n",
    "        self.base_env = base_env\n",
    "        self.epsilon = epsilon\n",
    "\n",
    "    def action(self, obs):\n",
    "        \"\"\"\n",
    "        obs: preprocessed observation (or overcookedstate)\n",
    "        We want to output the action given the state. can use a NN!\n",
    "        should return a tuple (Action, Dict)\n",
    "        Dict should contain info about the action ('action_probs': numpy array)\n",
    "        \"\"\"\n",
    "        if isinstance(obs, OvercookedState):\n",
    "            # this is useful for translating the OvercookedState \n",
    "            # into observation that can be fed into the NN.\n",
    "            obs_from_state = self.base_env.featurize_state_mdp(obs)\n",
    "            obs = (obs_from_state[0],obs_from_state[1])\n",
    "\n",
    "    \n",
    "        action_probs = self.actor.call(obs)[self.idx].numpy()\n",
    "        if np.random.random() > self.epsilon: \n",
    "            action = Action.argmax(action_probs) # greedy selection\n",
    "        else:\n",
    "            action_idx = np.random.choice(range(0,6), size=1)[0]\n",
    "            action = Action.INDEX_TO_ACTION[action_idx] # random exploration\n",
    "        return (action, {'action_probs': action_probs})\n",
    "\n",
    "    def actions(self, obss):\n",
    "        \"\"\"\n",
    "        Look at the documentation of the Agent class\n",
    "        \"\"\"\n",
    "        pass\n",
    "\n",
    "    def update(self, obs, reward):\n",
    "        \"\"\"\n",
    "        What do we need to update?\n",
    "        \"\"\"\n",
    "        pass\n",
    "\n",
    "    def decay_epsilon(self, decay):\n",
    "        if self.epsilon - decay <= 0.05:\n",
    "            self.epsilon = 0.05\n",
    "        else:\n",
    "            self.epsilon -= decay"
   ]
  },
  {
   "cell_type": "code",
   "execution_count": 9,
   "id": "b81d70c8",
   "metadata": {},
   "outputs": [],
   "source": [
    "number_of_frames = 400\n",
    "layout_name = \"cramped_room\"\n",
    "base_mdp = OvercookedGridworld.from_layout_name(layout_name=layout_name) #or other layout\n",
    "base_env = OvercookedEnv.from_mdp(base_mdp, info_level=0, horizon=number_of_frames)\n",
    "env = Overcooked(base_env=base_env, featurize_fn=base_env.featurize_state_mdp)\n",
    "\n",
    "alpha_w = 1e-5\n",
    "alpha_t = 1e-6\n",
    "\n",
    "optimizer_actor = Adam(learning_rate=alpha_t)\n",
    "optimizer_critic = Adam(learning_rate=alpha_w)\n",
    "\n",
    "input_shape = env.observation_space._shape\n",
    "\n",
    "shared_actor_batch = PolicyBatch(\n",
    "    input_shape=input_shape,\n",
    "    num_actions=Action.NUM_ACTIONS,\n",
    "    optimizer=optimizer_actor\n",
    ")\n",
    "\n",
    "shared_critic_batch = ValueFunctionApproximatorBatch(\n",
    "    input_shape=input_shape,\n",
    "    optimizer=optimizer_critic\n",
    "    )\n",
    "\n",
    "agent_1 = MyAgentBatch(\n",
    "    actor=shared_actor_batch,\n",
    "    critic=shared_critic_batch,\n",
    "    idx=0,\n",
    "    base_env=base_env,\n",
    "    epsilon=0.5\n",
    ")\n",
    "agent_2 = MyAgentBatch(\n",
    "    actor=shared_actor_batch,\n",
    "    critic=shared_critic_batch,\n",
    "    idx=1,\n",
    "    base_env=base_env,\n",
    "    epsilon=0.5\n",
    ")"
   ]
  },
  {
   "cell_type": "code",
   "execution_count": 10,
   "id": "04e66b19",
   "metadata": {},
   "outputs": [
    {
     "name": "stdout",
     "output_type": "stream",
     "text": [
      "Episode [  1] terminated at timestep 400. cumulative reward:   9.\n",
      "Computing the deltas (MONTE-CARLO)\n",
      "Performing stocastic gradient descent with 5 epochs.\n"
     ]
    },
    {
     "data": {
      "application/vnd.jupyter.widget-view+json": {
       "model_id": "e464f56f2bb44626ac152d42a134fcde",
       "version_major": 2,
       "version_minor": 0
      },
      "text/plain": [
       "  0%|          | 0/2 [00:00<?, ?it/s]"
      ]
     },
     "metadata": {},
     "output_type": "display_data"
    },
    {
     "name": "stdout",
     "output_type": "stream",
     "text": [
      "Episode [  2] terminated at timestep 400. cumulative reward:   3.\n",
      "Computing the deltas (MONTE-CARLO)\n",
      "Performing stocastic gradient descent with 5 epochs.\n"
     ]
    },
    {
     "data": {
      "application/vnd.jupyter.widget-view+json": {
       "model_id": "e1b3bfe83993454a86c1f7e076d2c248",
       "version_major": 2,
       "version_minor": 0
      },
      "text/plain": [
       "  0%|          | 0/2 [00:00<?, ?it/s]"
      ]
     },
     "metadata": {},
     "output_type": "display_data"
    },
    {
     "name": "stdout",
     "output_type": "stream",
     "text": [
      "Episode [  3] terminated at timestep 400. cumulative reward:   3.\n",
      "Computing the deltas (MONTE-CARLO)\n",
      "Performing stocastic gradient descent with 5 epochs.\n"
     ]
    },
    {
     "data": {
      "application/vnd.jupyter.widget-view+json": {
       "model_id": "e1ecbe3e49844d85bcab6c8fb6cf6c54",
       "version_major": 2,
       "version_minor": 0
      },
      "text/plain": [
       "  0%|          | 0/2 [00:00<?, ?it/s]"
      ]
     },
     "metadata": {},
     "output_type": "display_data"
    },
    {
     "name": "stdout",
     "output_type": "stream",
     "text": [
      "Episode [  4] terminated at timestep 400. cumulative reward:   6.\n",
      "Computing the deltas (MONTE-CARLO)\n",
      "Performing stocastic gradient descent with 5 epochs.\n"
     ]
    },
    {
     "data": {
      "application/vnd.jupyter.widget-view+json": {
       "model_id": "5a828de02bc048929d2fecc956ea3792",
       "version_major": 2,
       "version_minor": 0
      },
      "text/plain": [
       "  0%|          | 0/2 [00:00<?, ?it/s]"
      ]
     },
     "metadata": {},
     "output_type": "display_data"
    },
    {
     "name": "stdout",
     "output_type": "stream",
     "text": [
      "Episode [  5] terminated at timestep 400. cumulative reward:  11.\n",
      "Computing the deltas (MONTE-CARLO)\n",
      "Performing stocastic gradient descent with 5 epochs.\n"
     ]
    },
    {
     "data": {
      "application/vnd.jupyter.widget-view+json": {
       "model_id": "e80632f6e3a4417c82597f36e0dbf107",
       "version_major": 2,
       "version_minor": 0
      },
      "text/plain": [
       "  0%|          | 0/2 [00:00<?, ?it/s]"
      ]
     },
     "metadata": {},
     "output_type": "display_data"
    },
    {
     "name": "stdout",
     "output_type": "stream",
     "text": [
      "Episode [  6] terminated at timestep 400. cumulative reward:   3.\n",
      "Computing the deltas (MONTE-CARLO)\n",
      "Performing stocastic gradient descent with 5 epochs.\n"
     ]
    },
    {
     "data": {
      "application/vnd.jupyter.widget-view+json": {
       "model_id": "2c7aac3e3d944dadb5994650cadf3bec",
       "version_major": 2,
       "version_minor": 0
      },
      "text/plain": [
       "  0%|          | 0/2 [00:00<?, ?it/s]"
      ]
     },
     "metadata": {},
     "output_type": "display_data"
    },
    {
     "name": "stdout",
     "output_type": "stream",
     "text": [
      "Episode [  7] terminated at timestep 400. cumulative reward:   6.\n",
      "Computing the deltas (MONTE-CARLO)\n",
      "Performing stocastic gradient descent with 5 epochs.\n"
     ]
    },
    {
     "data": {
      "application/vnd.jupyter.widget-view+json": {
       "model_id": "d91c3df2fa7a42ea951a59910194db20",
       "version_major": 2,
       "version_minor": 0
      },
      "text/plain": [
       "  0%|          | 0/2 [00:00<?, ?it/s]"
      ]
     },
     "metadata": {},
     "output_type": "display_data"
    },
    {
     "name": "stdout",
     "output_type": "stream",
     "text": [
      "Episode [  8] terminated at timestep 400. cumulative reward:   6.\n",
      "Computing the deltas (MONTE-CARLO)\n",
      "Performing stocastic gradient descent with 5 epochs.\n"
     ]
    },
    {
     "data": {
      "application/vnd.jupyter.widget-view+json": {
       "model_id": "59a00a8140cc4f36b9276ec06ab388f9",
       "version_major": 2,
       "version_minor": 0
      },
      "text/plain": [
       "  0%|          | 0/2 [00:00<?, ?it/s]"
      ]
     },
     "metadata": {},
     "output_type": "display_data"
    },
    {
     "name": "stdout",
     "output_type": "stream",
     "text": [
      "Episode [  9] terminated at timestep 400. cumulative reward:   3.\n",
      "Computing the deltas (MONTE-CARLO)\n",
      "Performing stocastic gradient descent with 5 epochs.\n"
     ]
    },
    {
     "data": {
      "application/vnd.jupyter.widget-view+json": {
       "model_id": "77c37ae522934d96beb490c28d9e40a6",
       "version_major": 2,
       "version_minor": 0
      },
      "text/plain": [
       "  0%|          | 0/2 [00:00<?, ?it/s]"
      ]
     },
     "metadata": {},
     "output_type": "display_data"
    },
    {
     "name": "stdout",
     "output_type": "stream",
     "text": [
      "Episode [ 10] terminated at timestep 400. cumulative reward:   6.\n",
      "Computing the deltas (MONTE-CARLO)\n",
      "Performing stocastic gradient descent with 5 epochs.\n"
     ]
    },
    {
     "data": {
      "application/vnd.jupyter.widget-view+json": {
       "model_id": "e09b0009a1034df590f1e92db6037650",
       "version_major": 2,
       "version_minor": 0
      },
      "text/plain": [
       "  0%|          | 0/2 [00:00<?, ?it/s]"
      ]
     },
     "metadata": {},
     "output_type": "display_data"
    },
    {
     "name": "stdout",
     "output_type": "stream",
     "text": [
      "Episode [ 11] terminated at timestep 400. cumulative reward:  17.\n",
      "Computing the deltas (MONTE-CARLO)\n",
      "Performing stocastic gradient descent with 5 epochs.\n"
     ]
    },
    {
     "data": {
      "application/vnd.jupyter.widget-view+json": {
       "model_id": "b3b3b2422c6e4df79a9992b468e94f8f",
       "version_major": 2,
       "version_minor": 0
      },
      "text/plain": [
       "  0%|          | 0/2 [00:00<?, ?it/s]"
      ]
     },
     "metadata": {},
     "output_type": "display_data"
    },
    {
     "name": "stdout",
     "output_type": "stream",
     "text": [
      "Episode [ 12] terminated at timestep 400. cumulative reward:  25.\n",
      "Computing the deltas (MONTE-CARLO)\n",
      "Performing stocastic gradient descent with 5 epochs.\n"
     ]
    },
    {
     "data": {
      "application/vnd.jupyter.widget-view+json": {
       "model_id": "868b30b82f8b48a8927dc5a392edb0a4",
       "version_major": 2,
       "version_minor": 0
      },
      "text/plain": [
       "  0%|          | 0/2 [00:00<?, ?it/s]"
      ]
     },
     "metadata": {},
     "output_type": "display_data"
    },
    {
     "name": "stdout",
     "output_type": "stream",
     "text": [
      "Episode [ 13] terminated at timestep 400. cumulative reward:   6.\n",
      "Computing the deltas (MONTE-CARLO)\n",
      "Performing stocastic gradient descent with 5 epochs.\n"
     ]
    },
    {
     "data": {
      "application/vnd.jupyter.widget-view+json": {
       "model_id": "1fdabe9fd0f7477e8cec4d0f7dfe6342",
       "version_major": 2,
       "version_minor": 0
      },
      "text/plain": [
       "  0%|          | 0/2 [00:00<?, ?it/s]"
      ]
     },
     "metadata": {},
     "output_type": "display_data"
    },
    {
     "name": "stdout",
     "output_type": "stream",
     "text": [
      "Episode [ 14] terminated at timestep 400. cumulative reward:  14.\n",
      "Computing the deltas (MONTE-CARLO)\n",
      "Performing stocastic gradient descent with 5 epochs.\n"
     ]
    },
    {
     "data": {
      "application/vnd.jupyter.widget-view+json": {
       "model_id": "c8edc0ef543143829d2ca588fbfd7912",
       "version_major": 2,
       "version_minor": 0
      },
      "text/plain": [
       "  0%|          | 0/2 [00:00<?, ?it/s]"
      ]
     },
     "metadata": {},
     "output_type": "display_data"
    },
    {
     "name": "stdout",
     "output_type": "stream",
     "text": [
      "Episode [ 15] terminated at timestep 400. cumulative reward:   3.\n",
      "Computing the deltas (MONTE-CARLO)\n",
      "Performing stocastic gradient descent with 5 epochs.\n"
     ]
    },
    {
     "data": {
      "application/vnd.jupyter.widget-view+json": {
       "model_id": "1962ebf3ffe846e48369737e614c3cfe",
       "version_major": 2,
       "version_minor": 0
      },
      "text/plain": [
       "  0%|          | 0/2 [00:00<?, ?it/s]"
      ]
     },
     "metadata": {},
     "output_type": "display_data"
    },
    {
     "name": "stdout",
     "output_type": "stream",
     "text": [
      "Episode [ 16] terminated at timestep 400. cumulative reward:   3.\n",
      "Computing the deltas (MONTE-CARLO)\n",
      "Performing stocastic gradient descent with 5 epochs.\n"
     ]
    },
    {
     "data": {
      "application/vnd.jupyter.widget-view+json": {
       "model_id": "896e67d6a2624888be31f652e1ef08ea",
       "version_major": 2,
       "version_minor": 0
      },
      "text/plain": [
       "  0%|          | 0/2 [00:00<?, ?it/s]"
      ]
     },
     "metadata": {},
     "output_type": "display_data"
    },
    {
     "name": "stdout",
     "output_type": "stream",
     "text": [
      "Episode [ 17] terminated at timestep 400. cumulative reward:   3.\n",
      "Computing the deltas (MONTE-CARLO)\n",
      "Performing stocastic gradient descent with 5 epochs.\n"
     ]
    },
    {
     "data": {
      "application/vnd.jupyter.widget-view+json": {
       "model_id": "f361336e3483430297c1041cb0a58de9",
       "version_major": 2,
       "version_minor": 0
      },
      "text/plain": [
       "  0%|          | 0/2 [00:00<?, ?it/s]"
      ]
     },
     "metadata": {},
     "output_type": "display_data"
    },
    {
     "name": "stdout",
     "output_type": "stream",
     "text": [
      "Episode [ 18] terminated at timestep 400. cumulative reward:   9.\n",
      "Computing the deltas (MONTE-CARLO)\n",
      "Performing stocastic gradient descent with 5 epochs.\n"
     ]
    },
    {
     "data": {
      "application/vnd.jupyter.widget-view+json": {
       "model_id": "70d350ac76a342bb8ac229c3d8c4404d",
       "version_major": 2,
       "version_minor": 0
      },
      "text/plain": [
       "  0%|          | 0/2 [00:00<?, ?it/s]"
      ]
     },
     "metadata": {},
     "output_type": "display_data"
    },
    {
     "name": "stdout",
     "output_type": "stream",
     "text": [
      "Episode [ 19] terminated at timestep 400. cumulative reward:   6.\n",
      "Computing the deltas (MONTE-CARLO)\n",
      "Performing stocastic gradient descent with 5 epochs.\n"
     ]
    },
    {
     "data": {
      "application/vnd.jupyter.widget-view+json": {
       "model_id": "aa190a2dce844ad3ad2013c77faf44f9",
       "version_major": 2,
       "version_minor": 0
      },
      "text/plain": [
       "  0%|          | 0/2 [00:00<?, ?it/s]"
      ]
     },
     "metadata": {},
     "output_type": "display_data"
    },
    {
     "name": "stdout",
     "output_type": "stream",
     "text": [
      "User interrupted training. Saving weights\n"
     ]
    }
   ],
   "source": [
    "number_of_episodes = 30\n",
    "batch_size = 10 \n",
    "number_of_epochs = 2\n",
    "try:\n",
    "    for episode in range(number_of_episodes):\n",
    "        t = 0\n",
    "        obs = env.reset()\n",
    "        done = False\n",
    "\n",
    "        shaped_reward_factor = 1 # multiplicative factor for discounting shaped reward.\n",
    "        discount_rate = 1 # will decrease the shaped reward every time\n",
    "        cumulative_reward = 0\n",
    "\n",
    "        if (episode + 1) % 50 == 0:\n",
    "            agent_1.decay_epsilon(decay=0.1)\n",
    "            agent_2.decay_epsilon(decay=0.1)\n",
    "\n",
    "        actions = []\n",
    "        deltas = []\n",
    "        observations = []\n",
    "        rewards = []\n",
    "\n",
    "        while not done:\n",
    "            action1 = agent_1.action(obs['both_agent_obs'])\n",
    "            action2 = agent_2.action(obs['both_agent_obs'])\n",
    "            player_1_action = Action.ACTION_TO_INDEX[action1[0]]\n",
    "            player_2_action = Action.ACTION_TO_INDEX[action2[0]]\n",
    "            action = (player_1_action, player_2_action)\n",
    "\n",
    "            actions.append(action)\n",
    "            observations.append(obs['both_agent_obs'])\n",
    "\n",
    "            new_obs, reward, done, env_info = env.step(action)\n",
    "            shaped_reward = sum(env_info['shaped_r_by_agent']) # let's use shaped reward for learning how to play first.\n",
    "\n",
    "            if shaped_reward != 0:\n",
    "                shaped_reward = shaped_reward * shaped_reward_factor # discounting the shaped reward\n",
    "                shaped_reward_factor *= discount_rate\n",
    "\n",
    "            total_reward = reward + shaped_reward\n",
    "            rewards.append(total_reward)\n",
    "            cumulative_reward += total_reward\n",
    "\n",
    "            # compute delta = R + v^(St+1) - v^(St) where v^(St+1) = 0 if done\n",
    "            # if done:\n",
    "            #     delta = total_reward - shared_critic_batch.call(obs['both_agent_obs'])\n",
    "            # else:\n",
    "            #     delta = total_reward + shared_critic_batch.call(new_obs['both_agent_obs']) - shared_critic_batch.call(obs['both_agent_obs'])\n",
    "                        \n",
    "            # deltas.append(delta)\n",
    "\n",
    "            # update state (obs = new_obs) \n",
    "            obs = new_obs  \n",
    "\n",
    "            # think about training the critic by itself for a while\n",
    "            t += 1\n",
    "            \n",
    "        print(f\"Episode [{episode+1:>3d}] terminated at timestep {t}. cumulative reward: {cumulative_reward:>3d}.\")\n",
    "\n",
    "        print(f\"Computing the deltas (MONTE-CARLO)\")\n",
    "        for t in range(len(actions)):\n",
    "            G_t = np.sum(rewards[t+1:])\n",
    "            delta = G_t - shared_critic_batch.call(obs['both_agent_obs'])\n",
    "            deltas.append(delta)\n",
    "\n",
    "        print(f\"Performing stocastic gradient descent with {number_of_epochs} epochs.\")\n",
    "        for epoch in tqdm(range(number_of_epochs)):\n",
    "            num_batches = len(actions) // batch_size\n",
    "            shuffled_indices = tf.random.shuffle(tf.range(len(actions)))\n",
    "            for batch in range(num_batches):\n",
    "                if batch == num_batches: # last batch\n",
    "                    idx = shuffled_indices[batch*batch_size:]\n",
    "                else:\n",
    "                    idx = shuffled_indices[batch*batch_size:(batch+1)*batch_size]\n",
    "\n",
    "                deltas_batch = tf.squeeze(tf.gather(deltas, idx), axis=-1) \n",
    "                actions_batch = tf.gather(actions, idx)\n",
    "                observations_batch = tf.gather(observations, idx)\n",
    "\n",
    "                shared_critic_batch.train_step(deltas_batch, observations_batch)\n",
    "                shared_actor_batch.train_step(deltas_batch, observations_batch, actions_batch)\n",
    "\n",
    "\n",
    "\n",
    "        # shared_critic.save_weights(path_critic + \"shared_critic.weights.h5\")\n",
    "        # shared_actor.save_weights(path_actor + \"shared_actor.weights.h5\")\n",
    "except KeyboardInterrupt:\n",
    "    # shared_critic.save_weights(path_critic + \"shared_critic.weights.h5\")\n",
    "    # shared_actor.save_weights(path_actor + \"shared_actor.weights.h5\")\n",
    "    print(\"User interrupted training. Saving weights\")"
   ]
  },
  {
   "cell_type": "code",
   "execution_count": 17,
   "id": "04bb311f",
   "metadata": {},
   "outputs": [],
   "source": [
    "# shared_critic_batch.save_weights(path_critic + \"shared_critic_batch.weights.h5\")\n",
    "# shared_actor_batch.save_weights(path_actor + \"shared_actor_batch.weights.h5\")"
   ]
  },
  {
   "cell_type": "code",
   "execution_count": null,
   "id": "59125a06",
   "metadata": {},
   "outputs": [],
   "source": [
    "# shared_critic_batch.load_weights(path_critic + \"shared_critic_batch.weights.h5\")\n",
    "# shared_actor_batch.load_weights(path_actor + \"shared_actor_batch.weights.h5\")"
   ]
  },
  {
   "cell_type": "code",
   "execution_count": 6,
   "id": "da08f7f0",
   "metadata": {},
   "outputs": [
    {
     "name": "stderr",
     "output_type": "stream",
     "text": [
      "Avg rew: 0.00 (std: 0.00, se: 0.00); avg len: 400.00; : 100%|██████████| 10/10 [00:41<00:00,  4.19s/it]\n"
     ]
    },
    {
     "data": {
      "application/vnd.jupyter.widget-view+json": {
       "model_id": "9cde6745a00149bbb24087123b11962a",
       "version_major": 2,
       "version_minor": 0
      },
      "text/plain": [
       "interactive(children=(IntSlider(value=0, description='timestep', max=399), Output()), _dom_classes=('widget-in…"
      ]
     },
     "metadata": {},
     "output_type": "display_data"
    }
   ],
   "source": [
    "# Here we create an evaluator for the cramped_room layout\n",
    "layout = \"cramped_room\"\n",
    "ae = AgentEvaluator.from_layout_name(mdp_params={\"layout_name\": layout, \"old_dynamics\": True}, \n",
    "                                     env_params={\"horizon\": 400})\n",
    "\n",
    "agent_1.epsilon = 0.1\n",
    "agent_2.epsilon = 0.1\n",
    "ap = AgentPair(agent_1, agent_2)\n",
    "\n",
    "trajs = ae.evaluate_agent_pair(ap, 10)\n",
    "\n",
    "StateVisualizer().display_rendered_trajectory(trajs, ipython_display=True)"
   ]
  },
  {
   "cell_type": "markdown",
   "id": "c3f60cb1",
   "metadata": {},
   "source": [
    "# TRIALS"
   ]
  }
 ],
 "metadata": {
  "kernelspec": {
   "display_name": ".venv",
   "language": "python",
   "name": "python3"
  },
  "language_info": {
   "codemirror_mode": {
    "name": "ipython",
    "version": 3
   },
   "file_extension": ".py",
   "mimetype": "text/x-python",
   "name": "python",
   "nbconvert_exporter": "python",
   "pygments_lexer": "ipython3",
   "version": "3.10.17"
  }
 },
 "nbformat": 4,
 "nbformat_minor": 5
}
