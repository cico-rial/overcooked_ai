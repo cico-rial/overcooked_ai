{
 "cells": [
  {
   "cell_type": "markdown",
   "id": "daf7369d",
   "metadata": {},
   "source": [
    "# Things you might think of implementing  \n",
    "- replay buffer to learn from unconnected experiences \n",
    "- train in batches to make everything more efficient.\n",
    "- implement PPO, instantiating 2 actors. 1 will be the baseline (i.e. the previous update) in order to compute the ratio.\n",
    "- define 2 different actors that will be specific for each agent. overfitting is possible.\n",
    "- try to see whether you can use convolutions"
   ]
  },
  {
   "cell_type": "markdown",
   "id": "42c44041",
   "metadata": {},
   "source": [
    "# Imports"
   ]
  },
  {
   "cell_type": "code",
   "execution_count": 1,
   "id": "fcad74b2",
   "metadata": {},
   "outputs": [],
   "source": [
    "from overcooked_ai_py.mdp.overcooked_env import OvercookedEnv, Overcooked\n",
    "from overcooked_ai_py.mdp.overcooked_mdp import OvercookedGridworld, OvercookedState\n",
    "from overcooked_ai_py.visualization.state_visualizer import StateVisualizer\n",
    "from overcooked_ai_py.mdp.actions import Action\n",
    "from overcooked_ai_py.agents.agent import Agent, AgentPair, RandomAgent\n",
    "from overcooked_ai_py.agents.benchmarking import AgentEvaluator\n",
    "import numpy as np\n",
    "import matplotlib.pyplot as plt\n",
    "import tensorflow as tf\n",
    "from tensorflow import keras\n",
    "from tensorflow.keras import layers\n",
    "from tensorflow.keras.datasets import mnist, fashion_mnist\n",
    "from tensorflow.keras.optimizers import Adam\n",
    "from tensorflow.keras.callbacks import ModelCheckpoint, EarlyStopping, ReduceLROnPlateau\n",
    "from tensorflow.keras.layers import Input, Conv2D, MaxPooling2D, Conv2DTranspose, concatenate, BatchNormalization, Activation, Concatenate\n",
    "from tensorflow.keras.models import Model\n",
    "from tqdm.notebook import tqdm\n",
    "from typing import Tuple, List, Dict"
   ]
  },
  {
   "cell_type": "markdown",
   "id": "9a4b1239",
   "metadata": {},
   "source": [
    "# Useful classes "
   ]
  },
  {
   "cell_type": "markdown",
   "id": "5c856aba",
   "metadata": {},
   "source": [
    "Policy class: NN for computing the probability distribution of the actions to take."
   ]
  },
  {
   "cell_type": "code",
   "execution_count": null,
   "id": "3b64a48c",
   "metadata": {},
   "outputs": [],
   "source": [
    "class Policy(Model):\n",
    "    def __init__(self, input_shape, num_actions, optimizer):\n",
    "        super().__init__()\n",
    "        self.input_shape = input_shape\n",
    "        self.num_actions = num_actions\n",
    "        self.optimizer = optimizer\n",
    "        self.input_a = Input(shape=(self.input_shape))\n",
    "        self.input_b = Input(shape=(self.input_shape))\n",
    "        self.concatenate_inputs = Concatenate()\n",
    "        self.dense_1 = layers.Dense(128, activation='tanh')\n",
    "        self.dense_2 = layers.Dense(256, activation='tanh')\n",
    "        self.dense_3 = layers.Dense(128, activation='tanh')\n",
    "        self.policy_a = layers.Dense(self.num_actions, activation='softmax', name=\"policy_a\")\n",
    "        self.policy_b = layers.Dense(self.num_actions, activation='softmax', name=\"policy_b\")\n",
    "        self.build_model()\n",
    "    \n",
    "    def preprocess(self, obs):\n",
    "        agent_1_obs = obs['both_agent_obs'][0]\n",
    "        agent_2_obs = obs['both_agent_obs'][1]\n",
    "        return (tf.expand_dims(agent_1_obs, axis=0), tf.expand_dims(agent_2_obs, axis=0))\n",
    "      \n",
    "\n",
    "    def call(self, obs, training=False):\n",
    "        x = self.preprocess(obs)\n",
    "        x = self.concatenate_inputs(x)\n",
    "        x = self.dense_1(x)\n",
    "        x = self.dense_2(x)\n",
    "        x = self.dense_3(x)\n",
    "        policy_a = self.policy_a(x)\n",
    "        policy_b = self.policy_b(x)\n",
    "        return (policy_a, policy_b)\n",
    "\n",
    "    def build_model(self):\n",
    "        # computing a forward pass in order to automatically build the model\n",
    "        dummy_input = {\n",
    "        \"both_agent_obs\": (\n",
    "            tf.zeros((1, 96)),\n",
    "            tf.zeros((1, 96))\n",
    "        )\n",
    "        }\n",
    "        _ = self(dummy_input) \n",
    "    \n",
    "    def train_step(self, delta, obs: Tuple, action: Tuple[int,int]):\n",
    "        # update t with t + alpha_t*delta*grad_pi^(A|S) where A is the action taken before reaching St+1\n",
    "        with tf.GradientTape() as tape:\n",
    "            pi = self.call(obs, training=True)\n",
    "            log_pi = tf.math.log(pi) \n",
    "            pi_a = log_pi[0][..., action[0]] + log_pi[1][..., action[1]] # π(A|S), computing the sum of the probability of the best actions\n",
    "        \n",
    "        grad_pi_a = tape.gradient(pi_a, self.trainable_weights)\n",
    "        processed_gradient = [-tf.squeeze(delta)*grad for grad in grad_pi_a]\n",
    "        self.optimizer.apply_gradients(zip(processed_gradient, self.trainable_weights))"
   ]
  },
  {
   "cell_type": "markdown",
   "id": "dcc3e496",
   "metadata": {},
   "source": [
    "ValueFunctionApproximator class: NN for approximating the value function of a given state."
   ]
  },
  {
   "cell_type": "code",
   "execution_count": null,
   "id": "0171d26d",
   "metadata": {},
   "outputs": [],
   "source": [
    "class ValueFunctionApproximator(Model):\n",
    "    def __init__(self, input_shape, optimizer):\n",
    "        super().__init__()\n",
    "        self.input_shape = input_shape\n",
    "        self.optimizer = optimizer\n",
    "        self.input_a = Input(shape=(self.input_shape))\n",
    "        self.input_b = Input(shape=(self.input_shape))\n",
    "        self.concatenate_inputs = Concatenate()\n",
    "        self.dense_1 = layers.Dense(128, activation='tanh')\n",
    "        self.dense_2 = layers.Dense(256, activation='tanh')\n",
    "        self.dense_3 = layers.Dense(128, activation='tanh')\n",
    "        # self.value_function = layers.Dense(1, activation='relu', name=\"value_function\")\n",
    "        self.value_function = layers.Dense(1, name=\"value_function\")\n",
    "        self.build_model()\n",
    "    \n",
    "    def preprocess(self, obs):\n",
    "        agent_1_obs = obs['both_agent_obs'][0]\n",
    "        agent_2_obs = obs['both_agent_obs'][1]\n",
    "        return (tf.expand_dims(agent_1_obs, axis=0), tf.expand_dims(agent_2_obs, axis=0))\n",
    "    \n",
    "\n",
    "    def call(self, obs: Tuple, training=False):\n",
    "        x = self.preprocess(obs)\n",
    "        x = self.concatenate_inputs(x)\n",
    "        x = self.dense_1(x)\n",
    "        x = self.dense_2(x)\n",
    "        x = self.dense_3(x)\n",
    "        value_function = self.value_function(x)\n",
    "        return value_function\n",
    "\n",
    "    def build_model(self): \n",
    "        # computing a forward pass in order to automatically build the model\n",
    "        dummy_input = {\n",
    "        \"both_agent_obs\": (\n",
    "            tf.zeros((1, 96)),\n",
    "            tf.zeros((1, 96))\n",
    "        )\n",
    "        }\n",
    "        _ = self(dummy_input)\n",
    "    \n",
    "    def train_step(self, delta, obs: Tuple):\n",
    "        # update w with w + alpha_w*delta*grad_v^(St)\n",
    "        with tf.GradientTape() as tape:\n",
    "            state_value = self.call(obs, training=True)\n",
    "        \n",
    "        grad_state_value = tape.gradient(state_value, self.trainable_weights)\n",
    "        processed_gradient = [-tf.squeeze(delta)*grad for grad in grad_state_value]\n",
    "        self.optimizer.apply_gradients(zip(processed_gradient, self.trainable_weights))\n"
   ]
  },
  {
   "cell_type": "markdown",
   "id": "7a8ccb45",
   "metadata": {},
   "source": [
    "Agent class: inherits from Agent class found in agent.py"
   ]
  },
  {
   "cell_type": "code",
   "execution_count": null,
   "id": "325eb6dd",
   "metadata": {},
   "outputs": [],
   "source": [
    "class MyAgent(Agent):\n",
    "    \"\"\"\n",
    "    This class is more a couple of actors since we use shared networks and the output are 2!!!\n",
    "    For now let's treat it like a single player identified by self.index\n",
    "    \"\"\"\n",
    "    def __init__(self, actor, critic, idx, base_env: OvercookedEnv, epsilon = 0.1):\n",
    "        super().__init__()\n",
    "        self.actor = actor\n",
    "        self.critic = critic\n",
    "        self.idx = idx\n",
    "        if not self.idx in [0,1]:\n",
    "            raise AssertionError(\"The index of the agent must be either 0 or 1!\")\n",
    "        self.base_env = base_env\n",
    "        self.epsilon = epsilon\n",
    "\n",
    "    def action(self, obs):\n",
    "        \"\"\"\n",
    "        obs: preprocessed observation (or overcookedstate)\n",
    "        We want to output the action given the state. can use a NN!\n",
    "        should return a tuple (Action, Dict)\n",
    "        Dict should contain info about the action ('action_probs': numpy array)\n",
    "        \"\"\"\n",
    "        if isinstance(obs, OvercookedState):\n",
    "            # this is useful for translating the OvercookedState \n",
    "            # into observation that can be fed into the NN.\n",
    "            state = obs\n",
    "            obs_from_state = self.base_env.featurize_state_mdp(state)\n",
    "            obs = {'both_agent_obs': obs_from_state, 'overcooked_state': state}\n",
    "    \n",
    "        action_probs = self.actor.call(obs)[self.idx].numpy()\n",
    "        if np.random.random() > self.epsilon: \n",
    "            action = Action.argmax(action_probs) # greedy selection\n",
    "        else:\n",
    "            action_idx = np.random.choice(range(0,6), size=1)[0]\n",
    "            action = Action.INDEX_TO_ACTION[action_idx] # random exploration\n",
    "        return (action, {'action_probs': action_probs})\n",
    "\n",
    "    def actions(self, obss):\n",
    "        \"\"\"\n",
    "        Look at the documentation of the Agent class\n",
    "        \"\"\"\n",
    "        pass\n",
    "\n",
    "    def update(self, obs, reward):\n",
    "        \"\"\"\n",
    "        What do we need to update?\n",
    "        \"\"\"\n",
    "        pass\n",
    "\n",
    "    def decay_epsilon(self, decay):\n",
    "        if self.epsilon - decay <= 0.05:\n",
    "            self.epsilon = 0.05\n",
    "        else:\n",
    "            self.epsilon -= decay"
   ]
  },
  {
   "cell_type": "markdown",
   "id": "1728a541",
   "metadata": {},
   "source": [
    "# Let's start coding!"
   ]
  },
  {
   "cell_type": "markdown",
   "id": "26d16be5",
   "metadata": {},
   "source": [
    "Let's define our environment:"
   ]
  },
  {
   "cell_type": "code",
   "execution_count": null,
   "id": "0d6e5f28",
   "metadata": {},
   "outputs": [],
   "source": [
    "number_of_frames = 400\n",
    "layout_name = \"cramped_room\"\n",
    "base_mdp = OvercookedGridworld.from_layout_name(layout_name=layout_name) #or other layout\n",
    "base_env = OvercookedEnv.from_mdp(base_mdp, info_level=0, horizon=number_of_frames)\n",
    "env = Overcooked(base_env=base_env, featurize_fn=base_env.featurize_state_mdp)"
   ]
  },
  {
   "cell_type": "markdown",
   "id": "ec017db8",
   "metadata": {},
   "source": [
    "Let's instantiate our networks and the hyperparameters:"
   ]
  },
  {
   "cell_type": "code",
   "execution_count": null,
   "id": "1680f8db",
   "metadata": {},
   "outputs": [],
   "source": [
    "alpha_w = 1e-5\n",
    "alpha_t = 1e-6\n",
    "critic_optimizer = Adam(learning_rate=alpha_w)\n",
    "actor_optimizer = Adam(learning_rate=alpha_t)"
   ]
  },
  {
   "cell_type": "code",
   "execution_count": null,
   "id": "292c6b08",
   "metadata": {},
   "outputs": [],
   "source": [
    "input_shape = env.observation_space._shape\n",
    "\n",
    "shared_actor = Policy(\n",
    "    input_shape=input_shape,\n",
    "    num_actions=Action.NUM_ACTIONS,\n",
    "    optimizer=actor_optimizer\n",
    "    )\n",
    "\n",
    "shared_critic = ValueFunctionApproximator(\n",
    "    input_shape=input_shape,\n",
    "    optimizer=critic_optimizer\n",
    "    )"
   ]
  },
  {
   "cell_type": "code",
   "execution_count": null,
   "id": "f929ba8d",
   "metadata": {},
   "outputs": [],
   "source": [
    "path_critic = \"networks/critic/\"\n",
    "path_actor = \"networks/actor/\""
   ]
  },
  {
   "cell_type": "code",
   "execution_count": null,
   "id": "7097c7a9",
   "metadata": {},
   "outputs": [],
   "source": [
    "shared_critic.load_weights(path_critic + \"shared_critic.weights.h5\")\n",
    "shared_actor.load_weights(path_actor + \"shared_actor.weights.h5\")"
   ]
  },
  {
   "cell_type": "markdown",
   "id": "0226d7fd",
   "metadata": {},
   "source": [
    "Let's instantiate our agents:"
   ]
  },
  {
   "cell_type": "code",
   "execution_count": null,
   "id": "0a9e27b4",
   "metadata": {},
   "outputs": [],
   "source": [
    "agent_1 = MyAgent(\n",
    "    actor=shared_actor,\n",
    "    critic=shared_critic,\n",
    "    idx=0,\n",
    "    base_env=base_env,\n",
    "    epsilon=0.5\n",
    ")\n",
    "agent_2 = MyAgent(\n",
    "    actor=shared_actor,\n",
    "    critic=shared_critic,\n",
    "    idx=1,\n",
    "    base_env=base_env,\n",
    "    epsilon=0.5\n",
    ")"
   ]
  },
  {
   "cell_type": "markdown",
   "id": "7ea337a3",
   "metadata": {},
   "source": [
    "Let's define our training loop! Let's go for now for a bootstrapping method."
   ]
  },
  {
   "cell_type": "code",
   "execution_count": null,
   "id": "24ea87a8",
   "metadata": {},
   "outputs": [],
   "source": [
    "number_of_episodes = 1\n",
    "last_actor_call = 0 # debugging\n",
    "stop_calling = False # debugging\n",
    "try:\n",
    "    for episode in range(number_of_episodes):\n",
    "        t = 0\n",
    "        obs = env.reset()\n",
    "        done = False\n",
    "        shaped_reward_factor = 1 # multiplicative factor for discounting shaped reward.\n",
    "        discount_rate = 1 # will decrease the shaped reward every time\n",
    "        cumulative_reward = 0\n",
    "        updated = False\n",
    "\n",
    "        if stop_calling: # debugging\n",
    "            break # debugging\n",
    "\n",
    "        if (episode + 1) % 50 == 0:\n",
    "            agent_1.decay_epsilon(decay=0.1)\n",
    "            agent_2.decay_epsilon(decay=0.1)\n",
    "\n",
    "        while not done:\n",
    "            action1 = agent_1.action(obs)\n",
    "            action2 = agent_2.action(obs)\n",
    "            player_1_action = Action.ACTION_TO_INDEX[action1[0]]\n",
    "            player_2_action = Action.ACTION_TO_INDEX[action2[0]]\n",
    "            action = (player_1_action, player_2_action)\n",
    "\n",
    "            new_obs, reward, done, env_info = env.step(action)\n",
    "            shaped_reward = sum(env_info['shaped_r_by_agent']) # let's use shaped reward for learning how to play first.\n",
    "\n",
    "            if shaped_reward != 0:\n",
    "                shaped_reward = shaped_reward * shaped_reward_factor # discounting the shaped reward\n",
    "                shaped_reward_factor *= discount_rate\n",
    "\n",
    "            total_reward = reward + shaped_reward\n",
    "\n",
    "            cumulative_reward += total_reward\n",
    "\n",
    "            # compute delta = R + v^(St+1) - v^(St) where v^(St+1) = 0 if done\n",
    "            if done:\n",
    "                delta = total_reward - shared_critic.call(obs)\n",
    "            else:\n",
    "                delta = total_reward + shared_critic.call(new_obs) - shared_critic.call(obs)\n",
    "            \n",
    "            if not stop_calling: # debugging\n",
    "                last_actor_call = shared_actor.call(obs) # debugging\n",
    "            \n",
    "            if delta != 0:\n",
    "                updated = True\n",
    "                # update w with w + alpha_w*delta*grad_v^(St)\n",
    "                shared_critic.train_step(delta, obs)        \n",
    "                # update t with t + alpha_t*delta*grad_pi^(A|S) where A is the action taken before reaching St+1\n",
    "                shared_actor.train_step(delta, obs, action)\n",
    "\n",
    "                # DEBUGGING\n",
    "                if not np.sum(shared_actor.call(obs)[1].numpy()) > 0.9:\n",
    "                    print(delta)\n",
    "                    stop_calling = True\n",
    "                    break\n",
    "                # END DEBUGGING\n",
    "            # update state (obs = new_obs) \n",
    "            obs = new_obs  \n",
    "\n",
    "            # think about training the critic by itself for a while\n",
    "            t += 1\n",
    "            \n",
    "        print(f\"Episode [{episode+1:>3d}] terminated at timestep {t}. cumulative reward: {cumulative_reward:>3d}. updated: {updated}\")\n",
    "        shared_critic.save_weights(path_critic + \"shared_critic.weights.h5\")\n",
    "        shared_actor.save_weights(path_actor + \"shared_actor.weights.h5\")\n",
    "except KeyboardInterrupt:\n",
    "    shared_critic.save_weights(path_critic + \"shared_critic.weights.h5\")\n",
    "    shared_actor.save_weights(path_actor + \"shared_actor.weights.h5\")\n",
    "    print(\"User interrupted training. Saving weights\")"
   ]
  },
  {
   "cell_type": "code",
   "execution_count": null,
   "id": "5f696a68",
   "metadata": {},
   "outputs": [],
   "source": [
    "print(\"final frame: \")\n",
    "render = env.render() / 255.0\n",
    "plt.imshow(render)\n",
    "plt.show()"
   ]
  },
  {
   "cell_type": "markdown",
   "id": "1d3e2a2e",
   "metadata": {},
   "source": [
    "next step: a metric!! let's plot the reward over time."
   ]
  },
  {
   "cell_type": "code",
   "execution_count": null,
   "id": "d9e25868",
   "metadata": {},
   "outputs": [],
   "source": [
    "# Here we create an evaluator for the cramped_room layout\n",
    "layout = \"cramped_room\"\n",
    "ae = AgentEvaluator.from_layout_name(mdp_params={\"layout_name\": layout, \"old_dynamics\": True}, \n",
    "                                     env_params={\"horizon\": 400})\n",
    "\n",
    "agent_1.epsilon = 0.1\n",
    "agent_2.epsilon = 0.1\n",
    "ap = AgentPair(agent_1, agent_2)\n",
    "\n",
    "trajs = ae.evaluate_agent_pair(ap, 10)\n",
    "# trajs = ae.evaluate_human_model_pair(1)\n",
    "\n",
    "StateVisualizer().display_rendered_trajectory(trajs, ipython_display=True)"
   ]
  },
  {
   "cell_type": "code",
   "execution_count": null,
   "id": "483bf7a9",
   "metadata": {},
   "outputs": [],
   "source": [
    "shared_actor.call(new_obs)"
   ]
  },
  {
   "cell_type": "markdown",
   "id": "1c6aa54f",
   "metadata": {},
   "source": [
    "# Using trajectories\n",
    " When evaluating trajectory of my agents, the agents are fed with the overcooked state.  \n",
    " Since my agent use the \"both_agent_obs\", i can convert the overcooked state in \"both_agent_obs\" through base_env.featurize_state_mdp(state).  \n",
    " The problem here is that i need to pay attention to the index since this method returns always in the POV of agent 0.  \n",
    " What i can do is to retrieve the index with env.agent_idx and i will have the following equality:  \n",
    " base_env.featurize_state_mdp(state)[0] == obs['both_agent_obs'][env.agent_idx]  \n",
    " I need to find a way to include the environment on my agent class and be able to call the agent_idx in order to preprocess the state and use the right order. \n",
    " During testing this should not be a huge problem since our network should be able to generalize the position... let's do without it!"
   ]
  },
  {
   "cell_type": "code",
   "execution_count": null,
   "id": "03f39dab",
   "metadata": {},
   "outputs": [],
   "source": [
    "obs = env.reset()\n",
    "state = obs['overcooked_state']\n",
    "transformed_obs = base_env.featurize_state_mdp(state)\n",
    "print(env.agent_idx)\n",
    "transformed_obs[env.agent_idx] == obs['both_agent_obs'][0]\n"
   ]
  },
  {
   "cell_type": "markdown",
   "id": "938fee1f",
   "metadata": {},
   "source": [
    "# Let's try implementing PPO with batches\n",
    "The idea is to compute some steps in the episode (let's say the whole episode), then you perform stochastic gradient descent with batches. the batch is the whole episode, and you train on minibatches of the episode, performing multiple epochs (let's say 10.)  \n",
    "`Note:` THIS IS STILL ACTOR CRITIC KINDA"
   ]
  },
  {
   "cell_type": "code",
   "execution_count": 268,
   "id": "43d7deec",
   "metadata": {},
   "outputs": [],
   "source": [
    "class PolicyBatch(Model):\n",
    "    def __init__(self, input_shape, num_actions, optimizer):\n",
    "        super().__init__()\n",
    "        self.input_shape = input_shape\n",
    "        self.num_actions = num_actions\n",
    "        self.optimizer = optimizer\n",
    "        self.input_a = Input(shape=(self.input_shape))\n",
    "        self.input_b = Input(shape=(self.input_shape))\n",
    "        self.dense_1 = layers.Dense(128, activation='tanh')\n",
    "        self.dense_2 = layers.Dense(256, activation='tanh')\n",
    "        self.dense_3 = layers.Dense(128, activation='tanh')\n",
    "        self.policy_a = layers.Dense(self.num_actions, activation='softmax', name=\"policy_a\")\n",
    "        self.policy_b = layers.Dense(self.num_actions, activation='softmax', name=\"policy_b\")\n",
    "        self.build_model()\n",
    "    \n",
    "    def preprocess(self, obs_batch):\n",
    "        if isinstance(obs_batch, Tuple):\n",
    "            obs_batch = [obs_batch] # to handle the case where obs_batch is a single observation\n",
    "            \n",
    "        obs_1, obs_2 = zip(*obs_batch)\n",
    "        obs_batch = tf.concat([tf.stack(obs_1), tf.stack(obs_2)], axis=-1)\n",
    "        return obs_batch\n",
    "      \n",
    "\n",
    "    def call(self, obs_batch, training=False):\n",
    "        x = self.preprocess(obs_batch)\n",
    "        x = self.dense_1(x)\n",
    "        x = self.dense_2(x)\n",
    "        x = self.dense_3(x)\n",
    "        policy_a = self.policy_a(x)\n",
    "        policy_b = self.policy_b(x)\n",
    "        return (policy_a, policy_b) # self.call(obs_batch)[0][N]: n-th policy of agent 1 \n",
    "\n",
    "    def build_model(self):\n",
    "        # computing a forward pass in order to automatically build the model\n",
    "        dummy_input = (\n",
    "            tf.zeros((1, 96)),\n",
    "            tf.zeros((1, 96))\n",
    "        )\n",
    "        _ = self(dummy_input) \n",
    "    \n",
    "    def train_step(self, deltas_batch: tf.Tensor, obs_batch, actions_batch):\n",
    "        # update t with t + alpha_t*delta*grad_pi^(A|S) where A is the action taken before reaching St+1\n",
    "        with tf.GradientTape() as tape:\n",
    "            pi = self.call(obs_batch, training=True)\n",
    "            log_pi = tf.math.log(pi) \n",
    "            processed_log_pi = -deltas_batch * log_pi\n",
    "            pi_a = 0\n",
    "            for i in range(len(actions_batch)):\n",
    "                pi_a += processed_log_pi[0][i][actions_batch[i][0]] + processed_log_pi[1][i][actions_batch[i][1]]\n",
    "\n",
    "        grad_pi_a = tape.gradient(pi_a, self.trainable_weights)\n",
    "        self.optimizer.apply_gradients(zip(grad_pi_a, self.trainable_weights))\n",
    "\n",
    "\n",
    "class ValueFunctionApproximatorBatch(Model):\n",
    "    def __init__(self, input_shape, optimizer):\n",
    "        super().__init__()\n",
    "        self.input_shape = input_shape\n",
    "        self.optimizer = optimizer\n",
    "        self.input_a = Input(shape=(self.input_shape))\n",
    "        self.input_b = Input(shape=(self.input_shape))\n",
    "        self.dense_1 = layers.Dense(128, activation='tanh')\n",
    "        self.dense_2 = layers.Dense(256, activation='tanh')\n",
    "        self.dense_3 = layers.Dense(128, activation='tanh')\n",
    "        # self.value_function = layers.Dense(1, activation='relu', name=\"value_function\")\n",
    "        self.value_function = layers.Dense(1, name=\"value_function\")\n",
    "        self.build_model()\n",
    "    \n",
    "    def preprocess(self, obs_batch):\n",
    "        if isinstance(obs_batch, Tuple):\n",
    "            obs_batch = [obs_batch] # to handle the case where obs_batch is a single observation\n",
    "            \n",
    "        obs_1, obs_2 = zip(*obs_batch)\n",
    "        obs_batch = tf.concat([tf.stack(obs_1), tf.stack(obs_2)], axis=-1)\n",
    "        return obs_batch\n",
    "    \n",
    "\n",
    "    def call(self, obs_batch, training=False):\n",
    "        x = self.preprocess(obs_batch)\n",
    "        x = self.dense_1(x)\n",
    "        x = self.dense_2(x)\n",
    "        x = self.dense_3(x)\n",
    "        value_function = self.value_function(x)\n",
    "        return value_function\n",
    "\n",
    "    def build_model(self): \n",
    "        # computing a forward pass in order to automatically build the model\n",
    "        dummy_input =  (\n",
    "            tf.zeros((1, 96)),\n",
    "            tf.zeros((1, 96))\n",
    "        )\n",
    "        _ = self(dummy_input)\n",
    "    \n",
    "    def train_step(self, deltas_batch: tf.Tensor, obs_batch): # deltas is a tf.Tensor of shape (batch_size,1)\n",
    "        # update w with w + alpha_w*grad_v^(St)*delta\n",
    "        with tf.GradientTape() as tape:\n",
    "            state_value = self.call(obs_batch, training=True)\n",
    "            loss = tf.reduce_mean(tf.square(deltas_batch)) # adding a term that minimizes the distance between the true and the estimated value \n",
    "            processed_state_value = -deltas_batch * state_value + loss\n",
    "        \n",
    "        grad_state_value = tape.gradient(processed_state_value, self.trainable_weights)\n",
    "        self.optimizer.apply_gradients(zip(grad_state_value, self.trainable_weights))\n",
    "\n",
    "class MyAgentBatch(Agent):\n",
    "    \"\"\"\n",
    "    This class is more a couple of actors since we use shared networks and the output are 2!!!\n",
    "    For now let's treat it like a single player identified by self.index\n",
    "    \"\"\"\n",
    "    def __init__(self, actor, critic, idx, base_env: OvercookedEnv, epsilon = 0.1):\n",
    "        super().__init__()\n",
    "        self.actor = actor\n",
    "        self.critic = critic\n",
    "        self.idx = idx\n",
    "        if not self.idx in [0,1]:\n",
    "            raise AssertionError(\"The index of the agent must be either 0 or 1!\")\n",
    "        self.base_env = base_env\n",
    "        self.epsilon = epsilon\n",
    "\n",
    "    def action(self, obs):\n",
    "        \"\"\"\n",
    "        obs: preprocessed observation (or overcookedstate)\n",
    "        We want to output the action given the state. can use a NN!\n",
    "        should return a tuple (Action, Dict)\n",
    "        Dict should contain info about the action ('action_probs': numpy array)\n",
    "        \"\"\"\n",
    "        if isinstance(obs, OvercookedState):\n",
    "            # this is useful for translating the OvercookedState \n",
    "            # into observation that can be fed into the NN.\n",
    "            obs_from_state = self.base_env.featurize_state_mdp(obs)\n",
    "            obs = (obs_from_state[0],obs_from_state[1])\n",
    "\n",
    "    \n",
    "        action_probs = self.actor.call(obs)[self.idx].numpy()\n",
    "        if np.random.random() > self.epsilon: \n",
    "            action = Action.argmax(action_probs) # greedy selection\n",
    "        else:\n",
    "            action_idx = np.random.choice(range(0,6), size=1)[0]\n",
    "            action = Action.INDEX_TO_ACTION[action_idx] # random exploration\n",
    "        return (action, {'action_probs': action_probs})\n",
    "\n",
    "    def actions(self, obss):\n",
    "        \"\"\"\n",
    "        Look at the documentation of the Agent class\n",
    "        \"\"\"\n",
    "        pass\n",
    "\n",
    "    def update(self, obs, reward):\n",
    "        \"\"\"\n",
    "        What do we need to update?\n",
    "        \"\"\"\n",
    "        pass\n",
    "\n",
    "    def decay_epsilon(self, decay):\n",
    "        if self.epsilon - decay <= 0.5:\n",
    "            self.epsilon = 0.5\n",
    "        else:\n",
    "            self.epsilon -= decay"
   ]
  },
  {
   "cell_type": "code",
   "execution_count": 269,
   "id": "b81d70c8",
   "metadata": {},
   "outputs": [],
   "source": [
    "number_of_frames = 400\n",
    "layout_name = \"cramped_room\"\n",
    "base_mdp = OvercookedGridworld.from_layout_name(layout_name=layout_name) #or other layout\n",
    "base_env = OvercookedEnv.from_mdp(base_mdp, info_level=0, horizon=number_of_frames)\n",
    "env = Overcooked(base_env=base_env, featurize_fn=base_env.featurize_state_mdp)\n",
    "\n",
    "alpha_t = 1e-5\n",
    "alpha_w = 1e-5\n",
    "\n",
    "optimizer_actor = Adam(learning_rate=alpha_t)\n",
    "optimizer_critic = Adam(learning_rate=alpha_w)\n",
    "\n",
    "input_shape = env.observation_space._shape\n",
    "\n",
    "shared_actor_batch = PolicyBatch(\n",
    "    input_shape=input_shape,\n",
    "    num_actions=Action.NUM_ACTIONS,\n",
    "    optimizer=optimizer_actor\n",
    ")\n",
    "\n",
    "shared_critic_batch = ValueFunctionApproximatorBatch(\n",
    "    input_shape=input_shape,\n",
    "    optimizer=optimizer_critic\n",
    "    )\n",
    "\n",
    "agent_1 = MyAgentBatch(\n",
    "    actor=shared_actor_batch,\n",
    "    critic=shared_critic_batch,\n",
    "    idx=0,\n",
    "    base_env=base_env,\n",
    "    epsilon=0.9\n",
    ")\n",
    "agent_2 = MyAgentBatch(\n",
    "    actor=shared_actor_batch,\n",
    "    critic=shared_critic_batch,\n",
    "    idx=1,\n",
    "    base_env=base_env,\n",
    "    epsilon=0.9\n",
    ")"
   ]
  },
  {
   "cell_type": "code",
   "execution_count": 270,
   "id": "c9350f67",
   "metadata": {},
   "outputs": [],
   "source": [
    "path_critic = \"networks/critic/\"\n",
    "path_actor = \"networks/actor/\""
   ]
  },
  {
   "cell_type": "code",
   "execution_count": null,
   "id": "619ce023",
   "metadata": {},
   "outputs": [],
   "source": [
    "shared_critic_batch.load_weights(path_critic + \"shared_critic_batch5.weights.h5\")\n",
    "shared_actor_batch.load_weights(path_actor + \"shared_actor_batch5.weights.h5\")"
   ]
  },
  {
   "cell_type": "code",
   "execution_count": 271,
   "id": "61f56709",
   "metadata": {},
   "outputs": [
    {
     "name": "stdout",
     "output_type": "stream",
     "text": [
      "Episode [  1] terminated at timestep 400. cumulative reward:  14.\n",
      "Computing the deltas (MONTE-CARLO)\n",
      "Performing stocastic gradient descent with 2 epochs.\n"
     ]
    },
    {
     "data": {
      "application/vnd.jupyter.widget-view+json": {
       "model_id": "121a0497d2984cbb8de8a010058b5d6a",
       "version_major": 2,
       "version_minor": 0
      },
      "text/plain": [
       "  0%|          | 0/2 [00:00<?, ?it/s]"
      ]
     },
     "metadata": {},
     "output_type": "display_data"
    }
   ],
   "source": [
    "number_of_episodes = 1\n",
    "batch_size = 10 \n",
    "number_of_epochs = 2\n",
    "try:\n",
    "    for episode in range(number_of_episodes):\n",
    "        timestep = 0\n",
    "        obs = env.reset()\n",
    "        done = False\n",
    "\n",
    "        shaped_reward_factor = 1 # multiplicative factor for discounting shaped reward.\n",
    "        discount_rate = 1 # will decrease the shaped reward every time\n",
    "        cumulative_reward = 0\n",
    "\n",
    "        if (episode + 1) % 75 == 0:\n",
    "            agent_1.decay_epsilon(decay=0.1)\n",
    "            agent_2.decay_epsilon(decay=0.1)\n",
    "            shared_critic_batch.save_weights(path_critic + \"shared_critic_batch\"+str(agent_1.epsilon)[2]+\".weights.h5\")\n",
    "            shared_actor_batch.save_weights(path_actor + \"shared_actor_batch\"+str(agent_1.epsilon)[2]+\".weights.h5\")\n",
    "\n",
    "        actions = []\n",
    "        deltas = []\n",
    "        observations = []\n",
    "        rewards = []\n",
    "\n",
    "        while not done:\n",
    "            # reordering the actions based on the POV of the environment\n",
    "            if obs['other_agent_env_idx'] == 0:\n",
    "                my_obs = (obs['both_agent_obs'][1],obs['both_agent_obs'][0])\n",
    "                obs['both_agent_obs'] = my_obs\n",
    "\n",
    "            action1 = agent_1.action(obs['both_agent_obs'])\n",
    "            action2 = agent_2.action(obs['both_agent_obs'])\n",
    "            player_1_action = Action.ACTION_TO_INDEX[action1[0]]\n",
    "            player_2_action = Action.ACTION_TO_INDEX[action2[0]]\n",
    "            action = (player_1_action, player_2_action)\n",
    "\n",
    "            actions.append(action)\n",
    "            observations.append(obs['both_agent_obs'])\n",
    "\n",
    "            new_obs, reward, done, env_info = env.step(action)\n",
    "            shaped_reward = sum(env_info['shaped_r_by_agent']) # let's use shaped reward for learning how to play first.\n",
    "\n",
    "            if shaped_reward != 0:\n",
    "                shaped_reward = shaped_reward * shaped_reward_factor # discounting the shaped reward\n",
    "                shaped_reward_factor *= discount_rate\n",
    "\n",
    "\n",
    "            total_reward = reward + shaped_reward\n",
    "            rewards.append(total_reward)\n",
    "            cumulative_reward += total_reward\n",
    "\n",
    "            # compute delta = R + v^(St+1) - v^(St) where v^(St+1) = 0 if done\n",
    "            # if done:\n",
    "            #     delta = total_reward - shared_critic_batch.call(obs['both_agent_obs'])\n",
    "            # else:\n",
    "            #     delta = total_reward + shared_critic_batch.call(new_obs['both_agent_obs']) - shared_critic_batch.call(obs['both_agent_obs'])\n",
    "                        \n",
    "            # deltas.append(delta)\n",
    "\n",
    "            # update state (obs = new_obs) \n",
    "            obs = new_obs  \n",
    "\n",
    "            timestep += 1\n",
    "            \n",
    "        print(f\"Episode [{episode+1:>3d}] terminated at timestep {timestep}. cumulative reward: {cumulative_reward:>3d}.\")\n",
    "\n",
    "        print(f\"Computing the deltas (MONTE-CARLO)\")\n",
    "        for t in range(len(actions)):\n",
    "            G_t = np.sum(rewards[t:])\n",
    "            delta = G_t - shared_critic_batch.call(observations[t])\n",
    "            deltas.append(delta)\n",
    "\n",
    "        print(f\"Performing stocastic gradient descent with {number_of_epochs} epochs.\")\n",
    "        for epoch in tqdm(range(number_of_epochs)):\n",
    "            num_batches = len(actions) // batch_size\n",
    "            shuffled_indices = tf.random.shuffle(tf.range(len(actions)))\n",
    "            for batch in range(num_batches):\n",
    "                if batch == num_batches: # last batch\n",
    "                    idx = shuffled_indices[batch*batch_size:]\n",
    "                else:\n",
    "                    idx = shuffled_indices[batch*batch_size:(batch+1)*batch_size]\n",
    "\n",
    "                deltas_batch = tf.squeeze(tf.gather(deltas, idx), axis=-1) \n",
    "                actions_batch = tf.gather(actions, idx)\n",
    "                observations_batch = tf.gather(observations, idx)\n",
    "\n",
    "                shared_critic_batch.train_step(deltas_batch, observations_batch)\n",
    "                shared_actor_batch.train_step(deltas_batch, observations_batch, actions_batch)\n",
    "\n",
    "\n",
    "\n",
    "        # shared_critic.save_weights(path_critic + \"shared_critic.weights.h5\")\n",
    "        # shared_actor.save_weights(path_actor + \"shared_actor.weights.h5\")\n",
    "except:\n",
    "    shared_critic_batch.save_weights(path_critic + \"shared_critic_batch.weights.h5\")\n",
    "    shared_actor_batch.save_weights(path_actor + \"shared_actor_batch.weights.h5\")\n",
    "    print(\"Unexpected interruption of training. Saving weights\")"
   ]
  },
  {
   "cell_type": "code",
   "execution_count": null,
   "id": "da08f7f0",
   "metadata": {},
   "outputs": [
    {
     "name": "stderr",
     "output_type": "stream",
     "text": [
      "Avg rew: 0.00 (std: 0.00, se: 0.00); avg len: 400.00; : 100%|██████████| 10/10 [00:50<00:00,  5.02s/it]\n"
     ]
    },
    {
     "data": {
      "application/vnd.jupyter.widget-view+json": {
       "model_id": "a77cfc4640484d1d8b14374e3ff96765",
       "version_major": 2,
       "version_minor": 0
      },
      "text/plain": [
       "interactive(children=(IntSlider(value=0, description='timestep', max=399), Output()), _dom_classes=('widget-in…"
      ]
     },
     "metadata": {},
     "output_type": "display_data"
    }
   ],
   "source": [
    "# Here we create an evaluator for the cramped_room layout\n",
    "layout = \"cramped_room\"\n",
    "ae = AgentEvaluator.from_layout_name(mdp_params={\"layout_name\": layout, \"old_dynamics\": True}, \n",
    "                                     env_params={\"horizon\": 400})\n",
    "\n",
    "agent_1.epsilon = 0.1\n",
    "agent_2.epsilon = 0.1\n",
    "ap = AgentPair(agent_1, agent_2)\n",
    "\n",
    "trajs = ae.evaluate_agent_pair(ap, 10)\n",
    "\n",
    "StateVisualizer().display_rendered_trajectory(trajs, ipython_display=True)"
   ]
  },
  {
   "cell_type": "code",
   "execution_count": null,
   "id": "13232c55",
   "metadata": {},
   "outputs": [
    {
     "name": "stderr",
     "output_type": "stream",
     "text": [
      "Avg rew: 0.00 (std: 0.00, se: 0.00); avg len: 400.00; : 100%|██████████| 10/10 [00:51<00:00,  5.13s/it]\n"
     ]
    },
    {
     "data": {
      "application/vnd.jupyter.widget-view+json": {
       "model_id": "cfe25be67b884480b82eec2eb979f2cf",
       "version_major": 2,
       "version_minor": 0
      },
      "text/plain": [
       "interactive(children=(IntSlider(value=0, description='timestep', max=399), Output()), _dom_classes=('widget-in…"
      ]
     },
     "metadata": {},
     "output_type": "display_data"
    }
   ],
   "source": [
    "# Here we create an evaluator for the cramped_room layout\n",
    "layout = \"cramped_room\"\n",
    "ae = AgentEvaluator.from_layout_name(mdp_params={\"layout_name\": layout, \"old_dynamics\": True}, \n",
    "                                     env_params={\"horizon\": 400})\n",
    "\n",
    "agent_1.epsilon = 0.1\n",
    "agent_2.epsilon = 0.1\n",
    "ap = AgentPair(agent_2, agent_1)\n",
    "\n",
    "trajs = ae.evaluate_agent_pair(ap, 10)\n",
    "\n",
    "StateVisualizer().display_rendered_trajectory(trajs, ipython_display=True)"
   ]
  },
  {
   "cell_type": "code",
   "execution_count": null,
   "id": "8e780e9d",
   "metadata": {},
   "outputs": [
    {
     "name": "stderr",
     "output_type": "stream",
     "text": [
      "Avg rew: 2.00 (std: 6.00, se: 1.90); avg len: 400.00; : 100%|██████████| 10/10 [00:00<00:00, 10.71it/s]\n"
     ]
    },
    {
     "data": {
      "application/vnd.jupyter.widget-view+json": {
       "model_id": "26901325e6a1432b8e04604eb27f9c78",
       "version_major": 2,
       "version_minor": 0
      },
      "text/plain": [
       "interactive(children=(IntSlider(value=0, description='timestep', max=399), Output()), _dom_classes=('widget-in…"
      ]
     },
     "metadata": {},
     "output_type": "display_data"
    }
   ],
   "source": [
    "# Here we create an evaluator for the cramped_room layout\n",
    "layout = \"cramped_room\"\n",
    "ae = AgentEvaluator.from_layout_name(mdp_params={\"layout_name\": layout, \"old_dynamics\": True}, \n",
    "                                     env_params={\"horizon\": 400})\n",
    "\n",
    "ap = AgentPair(RandomAgent(all_actions=True), RandomAgent(all_actions=True))\n",
    "\n",
    "trajs = ae.evaluate_agent_pair(ap, 10)\n",
    "\n",
    "StateVisualizer().display_rendered_trajectory(trajs, ipython_display=True)"
   ]
  },
  {
   "cell_type": "markdown",
   "id": "c3f60cb1",
   "metadata": {},
   "source": [
    "# TRIALS"
   ]
  },
  {
   "cell_type": "code",
   "execution_count": null,
   "id": "7bb4f929",
   "metadata": {},
   "outputs": [],
   "source": [
    "shared_critic_batch(observations)"
   ]
  },
  {
   "cell_type": "code",
   "execution_count": null,
   "id": "141d9886",
   "metadata": {},
   "outputs": [],
   "source": [
    "# obs = env.reset()\n",
    "# new_obs, reward, done, env_info = env.step(action)"
   ]
  },
  {
   "cell_type": "code",
   "execution_count": null,
   "id": "022b7551",
   "metadata": {},
   "outputs": [
    {
     "data": {
      "text/plain": [
       "0"
      ]
     },
     "execution_count": 70,
     "metadata": {},
     "output_type": "execute_result"
    }
   ],
   "source": [
    "obs['other_agent_env_idx']"
   ]
  },
  {
   "cell_type": "code",
   "execution_count": null,
   "id": "017701d0",
   "metadata": {},
   "outputs": [
    {
     "data": {
      "text/plain": [
       "{'tomato_pickup': [[], []],\n",
       " 'useful_tomato_pickup': [[], []],\n",
       " 'tomato_drop': [[], []],\n",
       " 'useful_tomato_drop': [[], []],\n",
       " 'potting_tomato': [[], []],\n",
       " 'onion_pickup': [[92, 152, 181, 341, 357], [1, 19, 44, 80]],\n",
       " 'useful_onion_pickup': [[92, 152, 181, 341, 357], [1, 19, 44, 80]],\n",
       " 'onion_drop': [[111, 252, 353], [18, 73]],\n",
       " 'useful_onion_drop': [[], []],\n",
       " 'potting_onion': [[177], [21, 90]],\n",
       " 'dish_pickup': [[17, 45, 71, 74, 123, 269], [37, 97, 312, 384]],\n",
       " 'useful_dish_pickup': [[], []],\n",
       " 'dish_drop': [[44, 70, 73, 90, 145, 323], [39, 304, 383]],\n",
       " 'useful_dish_drop': [[44, 145], [39]],\n",
       " 'soup_pickup': [[], [387]],\n",
       " 'soup_delivery': [[], []],\n",
       " 'soup_drop': [[], [399]],\n",
       " 'optimal_onion_potting': [[177], [21, 90]],\n",
       " 'optimal_tomato_potting': [[], []],\n",
       " 'viable_onion_potting': [[177], [21, 90]],\n",
       " 'viable_tomato_potting': [[], []],\n",
       " 'catastrophic_onion_potting': [[], []],\n",
       " 'catastrophic_tomato_potting': [[], []],\n",
       " 'useless_onion_potting': [[], []],\n",
       " 'useless_tomato_potting': [[], []],\n",
       " 'cumulative_sparse_rewards_by_agent': array([0, 0]),\n",
       " 'cumulative_shaped_rewards_by_agent': array([ 3, 11])}"
      ]
     },
     "execution_count": 291,
     "metadata": {},
     "output_type": "execute_result"
    }
   ],
   "source": [
    "# ['agent_infos', 'sparse_r_by_agent', 'shaped_r_by_agent', 'phi_s', 'phi_s_prime', 'episode', 'policy_agent_idx']\n",
    "env_info['episode']['ep_game_stats']['cumulative_sparse_rewards_by_agent']\n",
    "env_info['episode']['ep_game_stats']['cumulative_shaped_rewards_by_agent']"
   ]
  },
  {
   "cell_type": "code",
   "execution_count": null,
   "id": "6fabf39a",
   "metadata": {},
   "outputs": [
    {
     "data": {
      "image/png": "[encoded data removed]",
      "text/plain": [
       "<Figure size 640x480 with 1 Axes>"
      ]
     },
     "metadata": {},
     "output_type": "display_data"
    }
   ],
   "source": [
    "render = env.render() / 255.0\n",
    "plt.imshow(render)\n",
    "plt.show()"
   ]
  },
  {
   "cell_type": "markdown",
   "id": "e4f0b2be",
   "metadata": {},
   "source": [
    "# Let's use different NNs for the agents:"
   ]
  },
  {
   "cell_type": "code",
   "execution_count": 2,
   "id": "9a52ab9e",
   "metadata": {},
   "outputs": [],
   "source": [
    "class SinglePolicyBatch(Model):\n",
    "    def __init__(self, input_shape, num_actions, optimizer):\n",
    "        super().__init__()\n",
    "        self.input_shape = input_shape\n",
    "        self.num_actions = num_actions\n",
    "        self.optimizer = optimizer\n",
    "        self.input_a = Input(shape=(self.input_shape))\n",
    "        self.input_b = Input(shape=(self.input_shape))\n",
    "        self.dense_1 = layers.Dense(128, activation='tanh')\n",
    "        self.dense_2 = layers.Dense(256, activation='tanh')\n",
    "        self.dense_3 = layers.Dense(128, activation='tanh')\n",
    "        self.policy = layers.Dense(self.num_actions, activation='softmax', name=\"policy\")\n",
    "        self.build_model()\n",
    "    \n",
    "    def preprocess(self, obs_batch):\n",
    "        if isinstance(obs_batch, Tuple):\n",
    "            obs_batch = [obs_batch] # to handle the case where obs_batch is a single observation\n",
    "            \n",
    "        obs_1, obs_2 = zip(*obs_batch)\n",
    "        obs_batch = tf.concat([tf.stack(obs_1), tf.stack(obs_2)], axis=-1)\n",
    "        return obs_batch\n",
    "      \n",
    "\n",
    "    def call(self, obs_batch, training=False):\n",
    "        x = self.preprocess(obs_batch)\n",
    "        x = self.dense_1(x)\n",
    "        x = self.dense_2(x)\n",
    "        x = self.dense_3(x)\n",
    "        policy = self.policy(x)\n",
    "        return policy\n",
    "\n",
    "    def build_model(self):\n",
    "        # computing a forward pass in order to automatically build the model\n",
    "        dummy_input = (\n",
    "            tf.zeros((1, 96)),\n",
    "            tf.zeros((1, 96))\n",
    "        )\n",
    "        _ = self(dummy_input) \n",
    "    \n",
    "    def train_step(self, deltas_batch: tf.Tensor, obs_batch, actions_batch):\n",
    "        # update t with t + alpha_t*delta*grad_pi^(A|S) where A is the action taken before reaching St+1\n",
    "        with tf.GradientTape() as tape:\n",
    "            pi = self.call(obs_batch, training=True)\n",
    "            log_pi = tf.math.log(pi) \n",
    "            processed_log_pi = -deltas_batch * log_pi\n",
    "            pi_a = 0\n",
    "            for i in range(len(actions_batch)):\n",
    "                # THIS NEED TO BE MODIFIED\n",
    "                pi_a += processed_log_pi[i][actions_batch[i]]\n",
    "\n",
    "        grad_pi_a = tape.gradient(pi_a, self.trainable_weights)\n",
    "        self.optimizer.apply_gradients(zip(grad_pi_a, self.trainable_weights))\n",
    "\n",
    "\n",
    "class SingleValueFunctionApproximatorBatch(Model):\n",
    "    def __init__(self, input_shape, optimizer):\n",
    "        super().__init__()\n",
    "        self.input_shape = input_shape\n",
    "        self.optimizer = optimizer\n",
    "        self.input_a = Input(shape=(self.input_shape))\n",
    "        self.input_b = Input(shape=(self.input_shape))\n",
    "        self.dense_1 = layers.Dense(128, activation='tanh')\n",
    "        self.dense_2 = layers.Dense(256, activation='tanh')\n",
    "        self.dense_3 = layers.Dense(128, activation='tanh')\n",
    "        # self.value_function = layers.Dense(1, activation='relu', name=\"value_function\")\n",
    "        self.value_function = layers.Dense(1, name=\"value_function\")\n",
    "        self.build_model()\n",
    "    \n",
    "    def preprocess(self, obs_batch):\n",
    "        if isinstance(obs_batch, Tuple):\n",
    "            obs_batch = [obs_batch] # to handle the case where obs_batch is a single observation\n",
    "            \n",
    "        obs_1, obs_2 = zip(*obs_batch)\n",
    "        obs_batch = tf.concat([tf.stack(obs_1), tf.stack(obs_2)], axis=-1)\n",
    "        return obs_batch\n",
    "    \n",
    "\n",
    "    def call(self, obs_batch, training=False):\n",
    "        x = self.preprocess(obs_batch)\n",
    "        x = self.dense_1(x)\n",
    "        x = self.dense_2(x)\n",
    "        x = self.dense_3(x)\n",
    "        value_function = self.value_function(x)\n",
    "        return value_function\n",
    "\n",
    "    def build_model(self): \n",
    "        # computing a forward pass in order to automatically build the model\n",
    "        dummy_input =  (\n",
    "            tf.zeros((1, 96)),\n",
    "            tf.zeros((1, 96))\n",
    "        )\n",
    "        _ = self(dummy_input)\n",
    "    \n",
    "    def train_step(self, deltas_batch: tf.Tensor, obs_batch): # deltas is a tf.Tensor of shape (batch_size,1)\n",
    "        # update w with w + alpha_w*grad_v^(St)*delta\n",
    "        with tf.GradientTape() as tape:\n",
    "            state_value = self.call(obs_batch, training=True)\n",
    "            loss = tf.reduce_mean(tf.square(deltas_batch)) # adding a term that minimizes the distance between the true and the estimated value \n",
    "            processed_state_value = -deltas_batch * state_value + loss\n",
    "        \n",
    "        grad_state_value = tape.gradient(processed_state_value, self.trainable_weights)\n",
    "        self.optimizer.apply_gradients(zip(grad_state_value, self.trainable_weights))\n",
    "\n",
    "class SingleMyAgentBatch(Agent):\n",
    "    \"\"\"\n",
    "    This class implements a single Agent\n",
    "    For now let's treat it like a single player identified by self.index\n",
    "    \"\"\"\n",
    "    def __init__(self, actor, critic, idx, base_env: OvercookedEnv, epsilon = 0.1):\n",
    "        super().__init__()\n",
    "        self.actor = actor\n",
    "        self.critic = critic\n",
    "        self.idx = idx\n",
    "        if not self.idx in [0,1]:\n",
    "            raise AssertionError(\"The index of the agent must be either 0 or 1!\")\n",
    "        self.base_env = base_env\n",
    "        self.epsilon = epsilon\n",
    "\n",
    "    def action(self, obs):\n",
    "        \"\"\"\n",
    "        obs: preprocessed observation (or overcookedstate)\n",
    "        We want to output the action given the state. can use a NN!\n",
    "        should return a tuple (Action, Dict)\n",
    "        Dict should contain info about the action ('action_probs': numpy array)\n",
    "        \"\"\"\n",
    "        if isinstance(obs, OvercookedState):\n",
    "            # this is useful for translating the OvercookedState \n",
    "            # into observation that can be fed into the NN.\n",
    "            obs_from_state = self.base_env.featurize_state_mdp(obs)\n",
    "            obs = (obs_from_state[0],obs_from_state[1])\n",
    "\n",
    "    \n",
    "        action_probs = self.actor.call(obs).numpy()\n",
    "        if np.random.random() > self.epsilon: \n",
    "            action = Action.argmax(action_probs) # greedy selection\n",
    "        else:\n",
    "            action_idx = np.random.choice(range(0,6), size=1)[0]\n",
    "            action = Action.INDEX_TO_ACTION[action_idx] # random exploration\n",
    "        return (action, {'action_probs': action_probs})\n",
    "\n",
    "    def actions(self, obss):\n",
    "        \"\"\"\n",
    "        Look at the documentation of the Agent class\n",
    "        \"\"\"\n",
    "        pass\n",
    "\n",
    "    def update(self, obs, reward):\n",
    "        \"\"\"\n",
    "        What do we need to update?\n",
    "        \"\"\"\n",
    "        pass\n",
    "\n",
    "    def decay_epsilon(self, decay):\n",
    "        if self.epsilon - decay <= 0.5:\n",
    "            self.epsilon = 0.5\n",
    "        else:\n",
    "            self.epsilon -= decay"
   ]
  },
  {
   "cell_type": "code",
   "execution_count": null,
   "id": "f6964557",
   "metadata": {},
   "outputs": [],
   "source": [
    "number_of_frames = 400\n",
    "layout_name = \"cramped_room\"\n",
    "base_mdp = OvercookedGridworld.from_layout_name(layout_name=layout_name) #or other layout\n",
    "base_env = OvercookedEnv.from_mdp(base_mdp, info_level=0, horizon=number_of_frames)\n",
    "env = Overcooked(base_env=base_env, featurize_fn=base_env.featurize_state_mdp)\n",
    "\n",
    "alpha_t = 1e-5\n",
    "alpha_w = 1e-5\n",
    "\n",
    "optimizer_actor_1 = Adam(learning_rate=alpha_t)\n",
    "optimizer_actor_2 = Adam(learning_rate=alpha_t)\n",
    "optimizer_critic_1 = Adam(learning_rate=alpha_w)\n",
    "optimizer_critic_2 = Adam(learning_rate=alpha_w)\n",
    "\n",
    "input_shape = env.observation_space._shape\n",
    "\n",
    "single_actor_batch_1 = SinglePolicyBatch(\n",
    "    input_shape=input_shape,\n",
    "    num_actions=Action.NUM_ACTIONS,\n",
    "    optimizer=optimizer_actor_1\n",
    ")\n",
    "single_actor_batch_2 = SinglePolicyBatch(\n",
    "    input_shape=input_shape,\n",
    "    num_actions=Action.NUM_ACTIONS,\n",
    "    optimizer=optimizer_actor_2\n",
    ")\n",
    "\n",
    "single_critic_batch_1 = SingleValueFunctionApproximatorBatch(\n",
    "    input_shape=input_shape,\n",
    "    optimizer=optimizer_critic_1\n",
    "    )\n",
    "\n",
    "single_critic_batch_2 = SingleValueFunctionApproximatorBatch(\n",
    "    input_shape=input_shape,\n",
    "    optimizer=optimizer_critic_2\n",
    "    )\n",
    "\n",
    "agent_1 = SingleMyAgentBatch(\n",
    "    actor=single_actor_batch_1,\n",
    "    critic=single_critic_batch_1,\n",
    "    idx=0,\n",
    "    base_env=base_env,\n",
    "    epsilon=0.9\n",
    ")\n",
    "agent_2 = SingleMyAgentBatch(\n",
    "    actor=single_actor_batch_2,\n",
    "    critic=single_critic_batch_2,\n",
    "    idx=1,\n",
    "    base_env=base_env,\n",
    "    epsilon=0.9\n",
    ")"
   ]
  },
  {
   "cell_type": "code",
   "execution_count": 6,
   "id": "55bd79c3",
   "metadata": {},
   "outputs": [],
   "source": [
    "path_critic = \"networks/critic/\"\n",
    "path_actor = \"networks/actor/\""
   ]
  },
  {
   "cell_type": "code",
   "execution_count": 12,
   "id": "b1ec03cc",
   "metadata": {},
   "outputs": [
    {
     "name": "stdout",
     "output_type": "stream",
     "text": [
      "Episode [1] terminated at timestep 400. cumulative reward: 6.\n",
      "cumulative sparse reward: [0 0]\n",
      "cumulative shaped reward: [0 6]\n",
      "Computing the deltas (MONTE-CARLO)\n",
      "Performing stocastic gradient descent with 2 epochs.\n"
     ]
    },
    {
     "data": {
      "application/vnd.jupyter.widget-view+json": {
       "model_id": "e7dbb80ab3cd45f5ab57493e39bc3696",
       "version_major": 2,
       "version_minor": 0
      },
      "text/plain": [
       "  0%|          | 0/2 [00:00<?, ?it/s]"
      ]
     },
     "metadata": {},
     "output_type": "display_data"
    },
    {
     "name": "stdout",
     "output_type": "stream",
     "text": [
      "Episode [2] terminated at timestep 400. cumulative reward: 6.\n",
      "cumulative sparse reward: [0 0]\n",
      "cumulative shaped reward: [3 3]\n",
      "Computing the deltas (MONTE-CARLO)\n",
      "Performing stocastic gradient descent with 2 epochs.\n"
     ]
    },
    {
     "data": {
      "application/vnd.jupyter.widget-view+json": {
       "model_id": "021fb378bdc44501bd97b69f0930a723",
       "version_major": 2,
       "version_minor": 0
      },
      "text/plain": [
       "  0%|          | 0/2 [00:00<?, ?it/s]"
      ]
     },
     "metadata": {},
     "output_type": "display_data"
    },
    {
     "name": "stdout",
     "output_type": "stream",
     "text": [
      "Episode [3] terminated at timestep 400. cumulative reward: 9.\n",
      "cumulative sparse reward: [0 0]\n",
      "cumulative shaped reward: [6 3]\n",
      "Computing the deltas (MONTE-CARLO)\n",
      "Performing stocastic gradient descent with 2 epochs.\n"
     ]
    },
    {
     "data": {
      "application/vnd.jupyter.widget-view+json": {
       "model_id": "2dbabbc4c6bd49cbaf6974a19cd40c5e",
       "version_major": 2,
       "version_minor": 0
      },
      "text/plain": [
       "  0%|          | 0/2 [00:00<?, ?it/s]"
      ]
     },
     "metadata": {},
     "output_type": "display_data"
    },
    {
     "name": "stdout",
     "output_type": "stream",
     "text": [
      "Episode [4] terminated at timestep 400. cumulative reward: 11.\n",
      "cumulative sparse reward: [0 0]\n",
      "cumulative shaped reward: [11  0]\n",
      "Computing the deltas (MONTE-CARLO)\n",
      "Performing stocastic gradient descent with 2 epochs.\n"
     ]
    },
    {
     "data": {
      "application/vnd.jupyter.widget-view+json": {
       "model_id": "10717acadfb74e6580780f99d52a7f11",
       "version_major": 2,
       "version_minor": 0
      },
      "text/plain": [
       "  0%|          | 0/2 [00:00<?, ?it/s]"
      ]
     },
     "metadata": {},
     "output_type": "display_data"
    },
    {
     "name": "stdout",
     "output_type": "stream",
     "text": [
      "Episode [5] terminated at timestep 400. cumulative reward: 14.\n",
      "cumulative sparse reward: [0 0]\n",
      "cumulative shaped reward: [11  3]\n",
      "Computing the deltas (MONTE-CARLO)\n",
      "Performing stocastic gradient descent with 2 epochs.\n"
     ]
    },
    {
     "data": {
      "application/vnd.jupyter.widget-view+json": {
       "model_id": "fdbabf6f34f5471eb5663ad7e73117b4",
       "version_major": 2,
       "version_minor": 0
      },
      "text/plain": [
       "  0%|          | 0/2 [00:00<?, ?it/s]"
      ]
     },
     "metadata": {},
     "output_type": "display_data"
    },
    {
     "name": "stdout",
     "output_type": "stream",
     "text": [
      "Episode [6] terminated at timestep 400. cumulative reward: 16.\n",
      "cumulative sparse reward: [0 0]\n",
      "cumulative shaped reward: [11  5]\n",
      "Computing the deltas (MONTE-CARLO)\n",
      "Performing stocastic gradient descent with 2 epochs.\n"
     ]
    },
    {
     "data": {
      "application/vnd.jupyter.widget-view+json": {
       "model_id": "8050c95706ce43a891b4a87c545c509a",
       "version_major": 2,
       "version_minor": 0
      },
      "text/plain": [
       "  0%|          | 0/2 [00:00<?, ?it/s]"
      ]
     },
     "metadata": {},
     "output_type": "display_data"
    },
    {
     "name": "stdout",
     "output_type": "stream",
     "text": [
      "Episode [7] terminated at timestep 400. cumulative reward: 8.\n",
      "cumulative sparse reward: [0 0]\n",
      "cumulative shaped reward: [3 5]\n",
      "Computing the deltas (MONTE-CARLO)\n",
      "Performing stocastic gradient descent with 2 epochs.\n"
     ]
    },
    {
     "data": {
      "application/vnd.jupyter.widget-view+json": {
       "model_id": "7aa1e0b20d3c4aae9a43bb641e2f8341",
       "version_major": 2,
       "version_minor": 0
      },
      "text/plain": [
       "  0%|          | 0/2 [00:00<?, ?it/s]"
      ]
     },
     "metadata": {},
     "output_type": "display_data"
    },
    {
     "name": "stdout",
     "output_type": "stream",
     "text": [
      "Episode [8] terminated at timestep 400. cumulative reward: 8.\n",
      "cumulative sparse reward: [0 0]\n",
      "cumulative shaped reward: [5 3]\n",
      "Computing the deltas (MONTE-CARLO)\n",
      "Performing stocastic gradient descent with 2 epochs.\n"
     ]
    },
    {
     "data": {
      "application/vnd.jupyter.widget-view+json": {
       "model_id": "27422e6d0a194f9bad408e9b07601d79",
       "version_major": 2,
       "version_minor": 0
      },
      "text/plain": [
       "  0%|          | 0/2 [00:00<?, ?it/s]"
      ]
     },
     "metadata": {},
     "output_type": "display_data"
    },
    {
     "name": "stdout",
     "output_type": "stream",
     "text": [
      "Episode [9] terminated at timestep 400. cumulative reward: 9.\n",
      "cumulative sparse reward: [0 0]\n",
      "cumulative shaped reward: [6 3]\n",
      "Computing the deltas (MONTE-CARLO)\n",
      "Performing stocastic gradient descent with 2 epochs.\n"
     ]
    },
    {
     "data": {
      "application/vnd.jupyter.widget-view+json": {
       "model_id": "bdef69a2237b4f60a8d375ebf80a475c",
       "version_major": 2,
       "version_minor": 0
      },
      "text/plain": [
       "  0%|          | 0/2 [00:00<?, ?it/s]"
      ]
     },
     "metadata": {},
     "output_type": "display_data"
    },
    {
     "name": "stdout",
     "output_type": "stream",
     "text": [
      "Episode [10] terminated at timestep 400. cumulative reward: 3.\n",
      "cumulative sparse reward: [0 0]\n",
      "cumulative shaped reward: [0 3]\n",
      "Computing the deltas (MONTE-CARLO)\n",
      "Performing stocastic gradient descent with 2 epochs.\n"
     ]
    },
    {
     "data": {
      "application/vnd.jupyter.widget-view+json": {
       "model_id": "a8c750f14aaf4930b92fe0f2159b920b",
       "version_major": 2,
       "version_minor": 0
      },
      "text/plain": [
       "  0%|          | 0/2 [00:00<?, ?it/s]"
      ]
     },
     "metadata": {},
     "output_type": "display_data"
    }
   ],
   "source": [
    "number_of_episodes = 10\n",
    "batch_size = 10 \n",
    "number_of_epochs = 2\n",
    "try:\n",
    "    for episode in range(number_of_episodes):\n",
    "        timestep = 0\n",
    "        obs = env.reset()\n",
    "        done = False\n",
    "\n",
    "        shaped_reward_factor = 1 # multiplicative factor for discounting shaped reward.\n",
    "        discount_rate = 1 # will decrease the shaped reward every time\n",
    "        cumulative_reward = 0\n",
    "\n",
    "        if (episode + 1) % 75 == 0:\n",
    "            agent_1.decay_epsilon(decay=0.1)\n",
    "            agent_2.decay_epsilon(decay=0.1)\n",
    "            single_critic_batch_1.save_weights(path_critic + \"single_critic_batch_1_\"+str(agent_1.epsilon)[2]+\".weights.h5\")\n",
    "            single_critic_batch_2.save_weights(path_critic + \"single_critic_batch_2_\"+str(agent_1.epsilon)[2]+\".weights.h5\")\n",
    "            single_actor_batch_1.save_weights(path_actor + \"single_actor_batch_1\"+str(agent_2.epsilon)[2]+\".weights.h5\")\n",
    "            single_actor_batch_2.save_weights(path_actor + \"single_actor_batch_2\"+str(agent_2.epsilon)[2]+\".weights.h5\")\n",
    "\n",
    "        agent_1_actions = []\n",
    "        agent_2_actions = []\n",
    "        agent_1_deltas = []\n",
    "        agent_2_deltas = []\n",
    "        agent_1_rewards = []\n",
    "        agent_2_rewards = []\n",
    "        observations = []\n",
    "\n",
    "        while not done:\n",
    "            # reordering the actions based on the POV of the environment\n",
    "            if obs['other_agent_env_idx'] == 0:\n",
    "                my_obs = (obs['both_agent_obs'][1],obs['both_agent_obs'][0])\n",
    "                obs['both_agent_obs'] = my_obs\n",
    "\n",
    "            action1 = agent_1.action(obs['both_agent_obs'])\n",
    "            action2 = agent_2.action(obs['both_agent_obs'])\n",
    "            player_1_action = Action.ACTION_TO_INDEX[action1[0]]\n",
    "            player_2_action = Action.ACTION_TO_INDEX[action2[0]]\n",
    "            action = (player_1_action,player_2_action)\n",
    "\n",
    "            agent_1_actions.append(player_1_action)\n",
    "            agent_2_actions.append(player_2_action)\n",
    "            observations.append(obs['both_agent_obs'])\n",
    "\n",
    "            new_obs, reward, done, env_info = env.step(action)\n",
    "            # shaped_reward = sum(env_info['shaped_r_by_agent']) # let's use shaped reward for learning how to play first.\n",
    "            agent_1_shaped_reward = env_info['shaped_r_by_agent'][0]\n",
    "            agent_2_shaped_reward = env_info['shaped_r_by_agent'][1]\n",
    "            \n",
    "            # if shaped_reward != 0:\n",
    "            #     shaped_reward = shaped_reward * shaped_reward_factor # discounting the shaped reward\n",
    "            #     shaped_reward_factor *= discount_rate\n",
    "\n",
    "\n",
    "            agent_1_total_reward = reward + agent_1_shaped_reward\n",
    "            agent_2_total_reward = reward + agent_2_shaped_reward\n",
    "            agent_1_rewards.append(agent_1_total_reward)\n",
    "            agent_2_rewards.append(agent_2_total_reward)\n",
    "            cumulative_reward += (agent_1_total_reward + agent_2_total_reward - reward) # since it's in both the total rewards\n",
    "\n",
    "            obs = new_obs  \n",
    "\n",
    "            timestep += 1\n",
    "            \n",
    "        print(f\"Episode [{episode+1}] terminated at timestep {timestep}. cumulative reward: {cumulative_reward}.\")\n",
    "        \n",
    "        print(f\"cumulative sparse reward: {env_info['episode']['ep_game_stats']['cumulative_sparse_rewards_by_agent']}\")\n",
    "        print(f\"cumulative shaped reward: {env_info['episode']['ep_game_stats']['cumulative_shaped_rewards_by_agent']}\")\n",
    "\n",
    "        print(f\"Computing the deltas (MONTE-CARLO)\")\n",
    "        for t in range(len(observations)):\n",
    "            G_t_agent_1 = np.sum(agent_1_rewards[t:])\n",
    "            G_t_agent_2 = np.sum(agent_2_rewards[t:])\n",
    "            agent_1_delta = G_t_agent_1 - single_critic_batch_1.call(observations[t])\n",
    "            agent_2_delta = G_t_agent_2 - single_critic_batch_2.call(observations[t])\n",
    "            agent_1_deltas.append(agent_1_delta)\n",
    "            agent_2_deltas.append(agent_2_delta)\n",
    "\n",
    "        print(f\"Performing stocastic gradient descent with {number_of_epochs} epochs.\")\n",
    "        for epoch in tqdm(range(number_of_epochs)):\n",
    "            num_batches = len(observations) // batch_size\n",
    "            shuffled_indices = tf.random.shuffle(tf.range(len(observations)))\n",
    "            for batch in range(num_batches):\n",
    "                if batch == num_batches: # last batch\n",
    "                    idx = shuffled_indices[batch*batch_size:]\n",
    "                else:\n",
    "                    idx = shuffled_indices[batch*batch_size:(batch+1)*batch_size]\n",
    "\n",
    "                agent_1_deltas_batch = tf.squeeze(tf.gather(agent_1_deltas, idx), axis=-1) \n",
    "                agent_2_deltas_batch = tf.squeeze(tf.gather(agent_2_deltas, idx), axis=-1) \n",
    "                agent_1_actions_batch = tf.gather(agent_1_actions, idx)\n",
    "                agent_2_actions_batch = tf.gather(agent_2_actions, idx)\n",
    "                observations_batch = tf.gather(observations, idx)\n",
    "\n",
    "                single_critic_batch_1.train_step(agent_1_deltas_batch, observations_batch)\n",
    "                single_critic_batch_2.train_step(agent_2_deltas_batch, observations_batch)\n",
    "                single_actor_batch_1.train_step(agent_1_deltas_batch, observations_batch, agent_1_actions_batch)\n",
    "                single_actor_batch_2.train_step(agent_2_deltas_batch, observations_batch, agent_2_actions_batch)\n",
    "\n",
    "except KeyboardInterrupt:\n",
    "    single_critic_batch_1.save_weights(path_critic + \"single_critic_batch_1_\"+str(agent_1.epsilon)[2]+\".weights.h5\")\n",
    "    single_critic_batch_2.save_weights(path_critic + \"single_critic_batch_2_\"+str(agent_1.epsilon)[2]+\".weights.h5\")\n",
    "    single_actor_batch_1.save_weights(path_actor + \"single_actor_batch_1\"+str(agent_1.epsilon)[2]+\".weights.h5\")\n",
    "    single_actor_batch_2.save_weights(path_actor + \"single_actor_batch_2\"+str(agent_1.epsilon)[2]+\".weights.h5\")\n",
    "    print(\"Unexpected interruption of training. Saving weights\")"
   ]
  }
 ],
 "metadata": {
  "kernelspec": {
   "display_name": ".venv",
   "language": "python",
   "name": "python3"
  },
  "language_info": {
   "codemirror_mode": {
    "name": "ipython",
    "version": 3
   },
   "file_extension": ".py",
   "mimetype": "text/x-python",
   "name": "python",
   "nbconvert_exporter": "python",
   "pygments_lexer": "ipython3",
   "version": "3.10.17"
  }
 },
 "nbformat": 4,
 "nbformat_minor": 5
}
